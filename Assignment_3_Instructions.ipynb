{
  "nbformat": 4,
  "nbformat_minor": 0,
  "metadata": {
    "colab": {
      "name": "Assignment_3_Instructions.ipynb",
      "provenance": [],
      "collapsed_sections": []
    },
    "kernelspec": {
      "display_name": "Python 3",
      "language": "python",
      "name": "python3"
    },
    "language_info": {
      "codemirror_mode": {
        "name": "ipython",
        "version": 3
      },
      "file_extension": ".py",
      "mimetype": "text/x-python",
      "name": "python",
      "nbconvert_exporter": "python",
      "pygments_lexer": "ipython3",
      "version": "3.7.1"
    }
  },
  "cells": [
    {
      "cell_type": "markdown",
      "metadata": {
        "id": "h9464I-uxLiw",
        "colab_type": "text"
      },
      "source": [
        "# Assignment"
      ]
    },
    {
      "cell_type": "markdown",
      "metadata": {
        "id": "IvLvmewlxLix",
        "colab_type": "text"
      },
      "source": [
        "<font face='georgia'>\n",
        "    \n",
        "   <h4><strong>What does tf-idf mean?</strong></h4>\n",
        "\n",
        "   <p>    \n",
        "Tf-idf stands for <em>term frequency-inverse document frequency</em>, and the tf-idf weight is a weight often used in information retrieval and text mining. This weight is a statistical measure used to evaluate how important a word is to a document in a collection or corpus. The importance increases proportionally to the number of times a word appears in the document but is offset by the frequency of the word in the corpus. Variations of the tf-idf weighting scheme are often used by search engines as a central tool in scoring and ranking a document's relevance given a user query.\n",
        "</p>\n",
        "    \n",
        "   <p>\n",
        "One of the simplest ranking functions is computed by summing the tf-idf for each query term; many more sophisticated ranking functions are variants of this simple model.\n",
        "</p>\n",
        "    \n",
        "   <p>\n",
        "Tf-idf can be successfully used for stop-words filtering in various subject fields including text summarization and classification.\n",
        "</p>\n",
        "    \n",
        "</font>"
      ]
    },
    {
      "cell_type": "markdown",
      "metadata": {
        "id": "4XLaGFUMxLiy",
        "colab_type": "text"
      },
      "source": [
        "<font face='georgia'>\n",
        "    <h4><strong>How to Compute:</strong></h4>\n",
        "\n",
        "Typically, the tf-idf weight is composed by two terms: the first computes the normalized Term Frequency (TF), aka. the number of times a word appears in a document, divided by the total number of words in that document; the second term is the Inverse Document Frequency (IDF), computed as the logarithm of the number of the documents in the corpus divided by the number of documents where the specific term appears.\n",
        "\n",
        " <ul>\n",
        "    <li>\n",
        "<strong>TF:</strong> Term Frequency, which measures how frequently a term occurs in a document. Since every document is different in length, it is possible that a term would appear much more times in long documents than shorter ones. Thus, the term frequency is often divided by the document length (aka. the total number of terms in the document) as a way of normalization: <br>\n",
        "\n",
        "$TF(t) = \\frac{\\text{Number of times term t appears in a document}}{\\text{Total number of terms in the document}}.$\n",
        "</li>\n",
        "<li>\n",
        "<strong>IDF:</strong> Inverse Document Frequency, which measures how important a term is. While computing TF, all terms are considered equally important. However it is known that certain terms, such as \"is\", \"of\", and \"that\", may appear a lot of times but have little importance. Thus we need to weigh down the frequent terms while scale up the rare ones, by computing the following: <br>\n",
        "\n",
        "$IDF(t) = \\log_{e}\\frac{\\text{Total  number of documents}} {\\text{Number of documents with term t in it}}.$\n",
        "for numerical stabiltiy we will be changing this formula little bit\n",
        "$IDF(t) = \\log_{e}\\frac{\\text{Total  number of documents}} {\\text{Number of documents with term t in it}+1}.$\n",
        "</li>\n",
        "</ul>\n",
        "\n",
        "<br>\n",
        "<h4><strong>Example</strong></h4>\n",
        "<p>\n",
        "\n",
        "Consider a document containing 100 words wherein the word cat appears 3 times. The term frequency (i.e., tf) for cat is then (3 / 100) = 0.03. Now, assume we have 10 million documents and the word cat appears in one thousand of these. Then, the inverse document frequency (i.e., idf) is calculated as log(10,000,000 / 1,000) = 4. Thus, the Tf-idf weight is the product of these quantities: 0.03 * 4 = 0.12.\n",
        "</p>\n",
        "</font>"
      ]
    },
    {
      "cell_type": "markdown",
      "metadata": {
        "id": "dg2ooa4DxLiz",
        "colab_type": "text"
      },
      "source": [
        "## Task-1"
      ]
    },
    {
      "cell_type": "markdown",
      "metadata": {
        "id": "TAcTjhO8xLiz",
        "colab_type": "text"
      },
      "source": [
        "<font face='georgia'>\n",
        "    <h4><strong>1. Build a TFIDF Vectorizer & compare its results with Sklearn:</strong></h4>\n",
        "\n",
        "<ul>\n",
        "    <li> As a part of this task you will be implementing TFIDF vectorizer on a collection of text documents.</li>\n",
        "    <br>\n",
        "    <li> You should compare the results of your own implementation of TFIDF vectorizer with that of sklearns implemenation TFIDF vectorizer.</li>\n",
        "    <br>\n",
        "    <li> Sklearn does few more tweaks in the implementation of its version of TFIDF vectorizer, so to replicate the exact results you would need to add following things to your custom implementation of tfidf vectorizer:\n",
        "       <ol>\n",
        "        <li> Sklearn has its vocabulary generated from idf sroted in alphabetical order</li>\n",
        "        <li> Sklearn formula of idf is different from the standard textbook formula. Here the constant <strong>\"1\"</strong> is added to the numerator and denominator of the idf as if an extra document was seen containing every term in the collection exactly once, which prevents zero divisions.\n",
        "            \n",
        " $IDF(t) = 1+\\log_{e}\\frac{1\\text{ }+\\text{ Total  number of documents in collection}} {1+\\text{Number of documents with term t in it}}.$\n",
        "        </li>\n",
        "        <li> Sklearn applies L2-normalization on its output matrix.</li>\n",
        "        <li> The final output of sklearn tfidf vectorizer is a sparse matrix.</li>\n",
        "    </ol>\n",
        "    <br>\n",
        "    <li>Steps to approach this task:\n",
        "    <ol>\n",
        "        <li> You would have to write both fit and transform methods for your custom implementation of tfidf vectorizer.</li>\n",
        "        <li> Print out the alphabetically sorted voacb after you fit your data and check if its the same as that of the feature names from sklearn tfidf vectorizer. </li>\n",
        "        <li> Print out the idf values from your implementation and check if its the same as that of sklearns tfidf vectorizer idf values. </li>\n",
        "        <li> Once you get your voacb and idf values to be same as that of sklearns implementation of tfidf vectorizer, proceed to the below steps. </li>\n",
        "        <li> Make sure the output of your implementation is a sparse matrix. Before generating the final output, you need to normalize your sparse matrix using L2 normalization. You can refer to this link https://scikit-learn.org/stable/modules/generated/sklearn.preprocessing.normalize.html </li>\n",
        "        <li> After completing the above steps, print the output of your custom implementation and compare it with sklearns implementation of tfidf vectorizer.</li>\n",
        "        <li> To check the output of a single document in your collection of documents,  you can convert the sparse matrix related only to that document into dense matrix and print it.</li>\n",
        "        </ol>\n",
        "    </li>\n",
        "    <br>\n",
        "   </ul>\n",
        "\n",
        "  <p> <font color=\"#e60000\"><strong>Note-1: </strong></font> All the necessary outputs of sklearns tfidf vectorizer have been provided as reference in this notebook, you can compare your outputs as mentioned in the above steps, with these outputs.<br>\n",
        "   <font color=\"#e60000\"><strong>Note-2: </strong></font> The output of your custom implementation and that of sklearns implementation would match only with the collection of document strings provided to you as reference in this notebook. It would not match for strings that contain capital letters or punctuations, etc, because sklearn version of tfidf vectorizer deals with such strings in a different way. To know further details about how sklearn tfidf vectorizer works with such string, you can always refer to its official documentation.<br>\n",
        "   <font color=\"#e60000\"><strong>Note-3: </strong></font> During this task, it would be helpful for you to debug the code you write with print statements wherever necessary. But when you are finally submitting the assignment, make sure your code is readable and try not to print things which are not part of this task.\n",
        "    </p>"
      ]
    },
    {
      "cell_type": "markdown",
      "metadata": {
        "id": "OnV82tg1xLi0",
        "colab_type": "text"
      },
      "source": [
        "### Corpus"
      ]
    },
    {
      "cell_type": "code",
      "metadata": {
        "id": "bUsYm9wjxLi1",
        "colab_type": "code",
        "colab": {}
      },
      "source": [
        "## SkLearn# Collection of string documents\n",
        "\n",
        "corpus = [\n",
        "     'this is the first document',\n",
        "     'this document is the second document',\n",
        "     'and this is the third one',\n",
        "     'is this the first document',\n",
        "]"
      ],
      "execution_count": 0,
      "outputs": []
    },
    {
      "cell_type": "markdown",
      "metadata": {
        "id": "eLwmFZfKxLi4",
        "colab_type": "text"
      },
      "source": [
        "### SkLearn Implementation"
      ]
    },
    {
      "cell_type": "code",
      "metadata": {
        "id": "Np4dfQOkxLi4",
        "colab_type": "code",
        "colab": {}
      },
      "source": [
        "from sklearn.feature_extraction.text import TfidfVectorizer\n",
        "vectorizer = TfidfVectorizer()\n",
        "vectorizer.fit(corpus)\n",
        "skl_output = vectorizer.transform(corpus)"
      ],
      "execution_count": 0,
      "outputs": []
    },
    {
      "cell_type": "code",
      "metadata": {
        "id": "-7Om8YpYxLi6",
        "colab_type": "code",
        "outputId": "bb30177b-cdee-48f9-f205-adc4bc16a51a",
        "colab": {
          "base_uri": "https://localhost:8080/",
          "height": 34
        }
      },
      "source": [
        "# sklearn feature names, they are sorted in alphabetic order by default.\n",
        "\n",
        "print(vectorizer.get_feature_names())"
      ],
      "execution_count": 4,
      "outputs": [
        {
          "output_type": "stream",
          "text": [
            "['and', 'document', 'first', 'is', 'one', 'second', 'the', 'third', 'this']\n"
          ],
          "name": "stdout"
        }
      ]
    },
    {
      "cell_type": "code",
      "metadata": {
        "id": "dTKplK96xLi-",
        "colab_type": "code",
        "outputId": "1bb15f74-9675-4a69-f9bd-f7a5e735615f",
        "colab": {
          "base_uri": "https://localhost:8080/",
          "height": 51
        }
      },
      "source": [
        "# Here we will print the sklearn tfidf vectorizer idf values after applying the fit method\n",
        "# After using the fit function on the corpus the vocab has 9 words in it, and each has its idf value.\n",
        "\n",
        "print(vectorizer.idf_)"
      ],
      "execution_count": 5,
      "outputs": [
        {
          "output_type": "stream",
          "text": [
            "[1.91629073 1.22314355 1.51082562 1.         1.91629073 1.91629073\n",
            " 1.         1.91629073 1.        ]\n"
          ],
          "name": "stdout"
        }
      ]
    },
    {
      "cell_type": "code",
      "metadata": {
        "id": "-CTiWHygxLjA",
        "colab_type": "code",
        "outputId": "059a035f-4954-4284-8b5a-772942625e16",
        "colab": {
          "base_uri": "https://localhost:8080/",
          "height": 34
        }
      },
      "source": [
        "# shape of sklearn tfidf vectorizer output after applying transform method.\n",
        "\n",
        "skl_output.shape"
      ],
      "execution_count": 6,
      "outputs": [
        {
          "output_type": "execute_result",
          "data": {
            "text/plain": [
              "(4, 9)"
            ]
          },
          "metadata": {
            "tags": []
          },
          "execution_count": 6
        }
      ]
    },
    {
      "cell_type": "code",
      "metadata": {
        "id": "bDKEpbA-xLjD",
        "colab_type": "code",
        "outputId": "72057a38-9eb3-43a6-868b-5c0be06d629c",
        "colab": {
          "base_uri": "https://localhost:8080/",
          "height": 102
        }
      },
      "source": [
        "# sklearn tfidf values for first line of the above corpus.\n",
        "# Here the output is a sparse matrix\n",
        "\n",
        "print(skl_output[0])"
      ],
      "execution_count": 7,
      "outputs": [
        {
          "output_type": "stream",
          "text": [
            "  (0, 8)\t0.38408524091481483\n",
            "  (0, 6)\t0.38408524091481483\n",
            "  (0, 3)\t0.38408524091481483\n",
            "  (0, 2)\t0.5802858236844359\n",
            "  (0, 1)\t0.46979138557992045\n"
          ],
          "name": "stdout"
        }
      ]
    },
    {
      "cell_type": "code",
      "metadata": {
        "id": "3QWo34hexLjF",
        "colab_type": "code",
        "outputId": "317ae84d-fdd9-4568-9aed-422b392077eb",
        "colab": {
          "base_uri": "https://localhost:8080/",
          "height": 51
        }
      },
      "source": [
        "# sklearn tfidf values for first line of the above corpus.\n",
        "# To understand the output better, here we are converting the sparse output matrix to dense matrix and printing it.\n",
        "# Notice that this output is normalized using L2 normalization. sklearn does this by default.\n",
        "\n",
        "print(skl_output[0].toarray())"
      ],
      "execution_count": 8,
      "outputs": [
        {
          "output_type": "stream",
          "text": [
            "[[0.         0.46979139 0.58028582 0.38408524 0.         0.\n",
            "  0.38408524 0.         0.38408524]]\n"
          ],
          "name": "stdout"
        }
      ]
    },
    {
      "cell_type": "markdown",
      "metadata": {
        "id": "qfIwx5LzxLjI",
        "colab_type": "text"
      },
      "source": [
        "### Your custom implementation"
      ]
    },
    {
      "cell_type": "code",
      "metadata": {
        "id": "HjuCcJwXxLjJ",
        "colab_type": "code",
        "colab": {}
      },
      "source": [
        "# Write your code here.\n",
        "# Make sure its well documented and readble with appropriate comments.\n",
        "# Compare your results with the above sklearn tfidf vectorizer\n",
        "# You are not supposed to use any other library apart from the ones given below\n",
        "\n",
        "from collections import Counter\n",
        "from tqdm import tqdm\n",
        "from scipy.sparse import csr_matrix\n",
        "import math\n",
        "import operator\n",
        "from sklearn.preprocessing import normalize\n",
        "import numpy"
      ],
      "execution_count": 0,
      "outputs": []
    },
    {
      "cell_type": "code",
      "metadata": {
        "id": "lPdOsFXVbBKV",
        "colab_type": "code",
        "colab": {}
      },
      "source": [
        "from tqdm import tqdm # tqdm is a library that helps us to visualize the runtime of for loop. refer this to know more about tqdm\n",
        "#https://tqdm.github.io/\n",
        "\n",
        "# it accepts only list of sentances\n",
        "def fit(dataset):    \n",
        "    unique_words = set() # at first we will initialize an empty set\n",
        "    # check if its list type or not\n",
        "    if isinstance(dataset, (list,)):\n",
        "        for row in dataset: # for each review in the dataset\n",
        "            for word in row.split(\" \"): # for each word in the review. #split method converts a string into list of words\n",
        "                \n",
        "                unique_words.add(word)\n",
        "        unique_words = sorted(list(unique_words))\n",
        "        vocab = {j:i for i,j in enumerate(unique_words)}\n",
        "        return vocab\n",
        "    else:\n",
        "        print(\"you need to pass list of sentance\")"
      ],
      "execution_count": 0,
      "outputs": []
    },
    {
      "cell_type": "code",
      "metadata": {
        "id": "JABR_jKWbW9r",
        "colab_type": "code",
        "outputId": "9a237475-048e-4697-d2bc-feaa12198f6f",
        "colab": {
          "base_uri": "https://localhost:8080/",
          "height": 34
        }
      },
      "source": [
        "vocab = fit(corpus)\n",
        "print(vocab)"
      ],
      "execution_count": 11,
      "outputs": [
        {
          "output_type": "stream",
          "text": [
            "{'and': 0, 'document': 1, 'first': 2, 'is': 3, 'one': 4, 'second': 5, 'the': 6, 'third': 7, 'this': 8}\n"
          ],
          "name": "stdout"
        }
      ]
    },
    {
      "cell_type": "code",
      "metadata": {
        "id": "q9MWCg_yHRnU",
        "colab_type": "code",
        "outputId": "b9e26705-e2bd-4b5c-81bc-3a2da589f5de",
        "colab": {
          "base_uri": "https://localhost:8080/",
          "height": 54
        }
      },
      "source": [
        "#Build IDF\n",
        "   def idf(dataset):\n",
        "     dictofIDF={}\n",
        "     listofIDF=[]\n",
        "     for key,voc in enumerate(vocab):\n",
        "       count=0\n",
        "       for row,word in enumerate(dataset):\n",
        "         if voc in word:\n",
        "           count=count+1\n",
        "       row=row+1\n",
        "       dictofIDF[voc]=(1+math.log((1+row)/(1+count)))\n",
        "                  \n",
        "  return dictofIDF\n",
        "     \n",
        "IDFvalue=idf(corpus)\n",
        "print(IDFvalue)"
      ],
      "execution_count": 12,
      "outputs": [
        {
          "output_type": "stream",
          "text": [
            "{'and': 1.916290731874155, 'document': 1.2231435513142097, 'first': 1.5108256237659907, 'is': 1.0, 'one': 1.916290731874155, 'second': 1.916290731874155, 'the': 1.0, 'third': 1.916290731874155, 'this': 1.0}\n"
          ],
          "name": "stdout"
        }
      ]
    },
    {
      "cell_type": "code",
      "metadata": {
        "id": "y8SM5cp3u8Q0",
        "colab_type": "code",
        "colab": {}
      },
      "source": [
        "# https://stackoverflow.com/questions/9919604/efficiently-calculate-word-frequency-in-a-string\n",
        "# https://docs.scipy.org/doc/scipy-0.19.0/reference/generated/scipy.sparse.csr_matrix.html\n",
        "# note that we are we need to send the preprocessing text here, we have not inlcuded the processing\n",
        "\n",
        "def transform(dataset,vocab):\n",
        "    rows = []\n",
        "    columns = []\n",
        "    values = []\n",
        "    temp = []\n",
        "    if isinstance(dataset, (list,)):\n",
        "\n",
        "      \n",
        "        for idx, row in enumerate(tqdm(dataset)): # for each document in the dataset\n",
        "            # it will return a dict type object where key is the word and values is its frequency, {word:frequency}\n",
        "            word_freq = dict(Counter(row.split()))\n",
        "            res = len(re.findall(r'\\w+', row))\n",
        "            print(\"word length\",res,row)\n",
        "            # for every unique word in the document\n",
        "            l2count=0\n",
        "            for word, freq in word_freq.items():  # for each unique word in the review.                \n",
        "                if len(word) < 2:\n",
        "                    continue\n",
        "                # we will check if its there in the vocabulary that we build in fit() function\n",
        "                # dict.get() function will return the values, if the key doesn't exits it will return -1\n",
        "                col_index = vocab.get(word, -1) # retreving the dimension number of a word\n",
        "                col_IDF = IDFvalue.get(word,-1)\n",
        "                # if the word exists\n",
        "                if col_index !=-1:\n",
        "                    # we are storing the index of the document\n",
        "                    rows.append(idx)\n",
        "                    # we are storing the dimensions of the word\n",
        "                    columns.append(col_index)\n",
        "                    # we are storing the frequency of the word\n",
        "                    TFIDFcal= ((freq/res)*(col_IDF))\n",
        "                    #TFIDFcal= freq/res\n",
        "                    l2count=l2count+(TFIDFcal*TFIDFcal)\n",
        "                    print(\"freq, res, col_IDF and TFIDFcal\",freq,res,col_IDF,TFIDFcal)\n",
        "                    temp.append(TFIDFcal)\n",
        "            print(\"l2count\",l2count)\n",
        "            z1=math.sqrt(l2count)\n",
        "            print(\"L2\",z1)\n",
        "            for i,j in enumerate(temp):\n",
        "             # print(i,j)\n",
        "              values.append((j/z1)) \n",
        "            print(\"vales\",values)\n",
        "        print(\"IDX final\",rows,columns,values)\n",
        "        print(\"Matrix shape\",len(dataset),\"*\",len(vocab))\n",
        "        return csr_matrix((values, (rows,columns)), shape=(len(dataset),len(vocab)))\n",
        "    else:\n",
        "        print(\"you need to pass list of strings\")\n",
        "        "
      ],
      "execution_count": 0,
      "outputs": []
    },
    {
      "cell_type": "code",
      "metadata": {
        "id": "0cVkXcw-vVmk",
        "colab_type": "code",
        "outputId": "a8058ae8-56e5-49b0-c7a4-5ea49dbe9d3d",
        "colab": {
          "base_uri": "https://localhost:8080/",
          "height": 1000
        }
      },
      "source": [
        "from scipy.sparse import csr_matrix\n",
        "import re\n",
        "strings = fit(corpus)\n",
        "print(list(vocab.keys()))\n",
        "final=transform(corpus, vocab).toarray()\n",
        "print(final)\n"
      ],
      "execution_count": 91,
      "outputs": [
        {
          "output_type": "stream",
          "text": [
            "100%|██████████| 4/4 [00:00<00:00, 138.44it/s]"
          ],
          "name": "stderr"
        },
        {
          "output_type": "stream",
          "text": [
            "['and', 'document', 'first', 'is', 'one', 'second', 'the', 'third', 'this']\n",
            "word length 5 this is the first document\n",
            "freq, res, col_IDF and TFIDFcal 1 5 1.0 0.2\n",
            "freq, res, col_IDF and TFIDFcal 1 5 1.0 0.2\n",
            "freq, res, col_IDF and TFIDFcal 1 5 1.0 0.2\n",
            "freq, res, col_IDF and TFIDFcal 1 5 1.5108256237659907 0.3021651247531982\n",
            "freq, res, col_IDF and TFIDFcal 1 5 1.2231435513142097 0.24462871026284194\n",
            "l2count 0.2711469685019773\n",
            "L2 0.5207177436020183\n",
            "0 0.2\n",
            "1 0.2\n",
            "2 0.2\n",
            "3 0.3021651247531982\n",
            "4 0.24462871026284194\n",
            "vales [0.3840852409148149, 0.3840852409148149, 0.3840852409148149, 0.580285823684436, 0.4697913855799205]\n",
            "word length 6 this document is the second document\n",
            "freq, res, col_IDF and TFIDFcal 1 6 1.0 0.16666666666666666\n",
            "freq, res, col_IDF and TFIDFcal 2 6 1.2231435513142097 0.40771451710473655\n",
            "freq, res, col_IDF and TFIDFcal 1 6 1.0 0.16666666666666666\n",
            "freq, res, col_IDF and TFIDFcal 1 6 1.0 0.16666666666666666\n",
            "freq, res, col_IDF and TFIDFcal 1 6 1.916290731874155 0.3193817886456925\n",
            "l2count 0.35156918770980367\n",
            "L2 0.5929327008268339\n",
            "0 0.2\n",
            "1 0.2\n",
            "2 0.2\n",
            "3 0.3021651247531982\n",
            "4 0.24462871026284194\n",
            "5 0.16666666666666666\n",
            "6 0.40771451710473655\n",
            "7 0.16666666666666666\n",
            "8 0.16666666666666666\n",
            "9 0.3193817886456925\n",
            "vales [0.3840852409148149, 0.3840852409148149, 0.3840852409148149, 0.580285823684436, 0.4697913855799205, 0.33730640884050356, 0.33730640884050356, 0.33730640884050356, 0.50961116553672, 0.4125741587902162, 0.2810886740337529, 0.6876235979836937, 0.2810886740337529, 0.2810886740337529, 0.5386476208856762]\n",
            "word length 6 and this is the third one\n",
            "freq, res, col_IDF and TFIDFcal 1 6 1.916290731874155 0.3193817886456925\n",
            "freq, res, col_IDF and TFIDFcal 1 6 1.0 0.16666666666666666\n",
            "freq, res, col_IDF and TFIDFcal 1 6 1.0 0.16666666666666666\n",
            "freq, res, col_IDF and TFIDFcal 1 6 1.0 0.16666666666666666\n",
            "freq, res, col_IDF and TFIDFcal 1 6 1.916290731874155 0.3193817886456925\n",
            "freq, res, col_IDF and TFIDFcal 1 6 1.916290731874155 0.3193817886456925\n",
            "l2count 0.3893475140888987\n",
            "L2 0.6239771743332433\n",
            "0 0.2\n",
            "1 0.2\n",
            "2 0.2\n",
            "3 0.3021651247531982\n",
            "4 0.24462871026284194\n",
            "5 0.16666666666666666\n",
            "6 0.40771451710473655\n",
            "7 0.16666666666666666\n",
            "8 0.16666666666666666\n",
            "9 0.3193817886456925\n",
            "10 0.3193817886456925\n",
            "11 0.16666666666666666\n",
            "12 0.16666666666666666\n",
            "13 0.16666666666666666\n",
            "14 0.3193817886456925\n",
            "15 0.3193817886456925\n",
            "vales [0.3840852409148149, 0.3840852409148149, 0.3840852409148149, 0.580285823684436, 0.4697913855799205, 0.33730640884050356, 0.33730640884050356, 0.33730640884050356, 0.50961116553672, 0.4125741587902162, 0.2810886740337529, 0.6876235979836937, 0.2810886740337529, 0.2810886740337529, 0.5386476208856762, 0.32052454517060164, 0.32052454517060164, 0.32052454517060164, 0.48425669588968473, 0.3920475304633415, 0.267103787642168, 0.6534125507722358, 0.267103787642168, 0.267103787642168, 0.511848512707169, 0.511848512707169, 0.267103787642168, 0.267103787642168, 0.267103787642168, 0.511848512707169, 0.511848512707169]\n",
            "word length 5 is this the first document\n",
            "freq, res, col_IDF and TFIDFcal 1 5 1.0 0.2\n",
            "freq, res, col_IDF and TFIDFcal 1 5 1.0 0.2\n",
            "freq, res, col_IDF and TFIDFcal 1 5 1.0 0.2\n",
            "freq, res, col_IDF and TFIDFcal 1 5 1.5108256237659907 0.3021651247531982\n",
            "freq, res, col_IDF and TFIDFcal 1 5 1.2231435513142097 0.24462871026284194\n",
            "l2count 0.2711469685019773\n",
            "L2 0.5207177436020183\n",
            "0 0.2\n",
            "1 0.2\n",
            "2 0.2\n",
            "3 0.3021651247531982\n",
            "4 0.24462871026284194\n",
            "5 0.16666666666666666\n",
            "6 0.40771451710473655\n",
            "7 0.16666666666666666\n",
            "8 0.16666666666666666\n",
            "9 0.3193817886456925\n",
            "10 0.3193817886456925\n",
            "11 0.16666666666666666\n",
            "12 0.16666666666666666\n",
            "13 0.16666666666666666\n",
            "14 0.3193817886456925\n",
            "15 0.3193817886456925\n",
            "16 0.2\n",
            "17 0.2\n",
            "18 0.2\n",
            "19 0.3021651247531982\n",
            "20 0.24462871026284194\n",
            "vales [0.3840852409148149, 0.3840852409148149, 0.3840852409148149, 0.580285823684436, 0.4697913855799205, 0.33730640884050356, 0.33730640884050356, 0.33730640884050356, 0.50961116553672, 0.4125741587902162, 0.2810886740337529, 0.6876235979836937, 0.2810886740337529, 0.2810886740337529, 0.5386476208856762, 0.32052454517060164, 0.32052454517060164, 0.32052454517060164, 0.48425669588968473, 0.3920475304633415, 0.267103787642168, 0.6534125507722358, 0.267103787642168, 0.267103787642168, 0.511848512707169, 0.511848512707169, 0.267103787642168, 0.267103787642168, 0.267103787642168, 0.511848512707169, 0.511848512707169, 0.3840852409148149, 0.3840852409148149, 0.3840852409148149, 0.580285823684436, 0.4697913855799205, 0.32007103409567905, 0.7829856426332008, 0.32007103409567905, 0.32007103409567905, 0.6133491561789265, 0.6133491561789265, 0.32007103409567905, 0.32007103409567905, 0.32007103409567905, 0.6133491561789265, 0.6133491561789265, 0.3840852409148149, 0.3840852409148149, 0.3840852409148149, 0.580285823684436, 0.4697913855799205]\n",
            "IDX final [0, 0, 0, 0, 0, 1, 1, 1, 1, 1, 2, 2, 2, 2, 2, 2, 3, 3, 3, 3, 3] [8, 3, 6, 2, 1, 8, 1, 3, 6, 5, 0, 8, 3, 6, 7, 4, 3, 8, 6, 2, 1] [0.3840852409148149, 0.3840852409148149, 0.3840852409148149, 0.580285823684436, 0.4697913855799205, 0.33730640884050356, 0.33730640884050356, 0.33730640884050356, 0.50961116553672, 0.4125741587902162, 0.2810886740337529, 0.6876235979836937, 0.2810886740337529, 0.2810886740337529, 0.5386476208856762, 0.32052454517060164, 0.32052454517060164, 0.32052454517060164, 0.48425669588968473, 0.3920475304633415, 0.267103787642168, 0.6534125507722358, 0.267103787642168, 0.267103787642168, 0.511848512707169, 0.511848512707169, 0.267103787642168, 0.267103787642168, 0.267103787642168, 0.511848512707169, 0.511848512707169, 0.3840852409148149, 0.3840852409148149, 0.3840852409148149, 0.580285823684436, 0.4697913855799205, 0.32007103409567905, 0.7829856426332008, 0.32007103409567905, 0.32007103409567905, 0.6133491561789265, 0.6133491561789265, 0.32007103409567905, 0.32007103409567905, 0.32007103409567905, 0.6133491561789265, 0.6133491561789265, 0.3840852409148149, 0.3840852409148149, 0.3840852409148149, 0.580285823684436, 0.4697913855799205]\n",
            "Matrix shape 4 * 9\n"
          ],
          "name": "stdout"
        },
        {
          "output_type": "stream",
          "text": [
            "\n"
          ],
          "name": "stderr"
        },
        {
          "output_type": "error",
          "ename": "ValueError",
          "evalue": "ignored",
          "traceback": [
            "\u001b[0;31m---------------------------------------------------------------------------\u001b[0m",
            "\u001b[0;31mValueError\u001b[0m                                Traceback (most recent call last)",
            "\u001b[0;32m<ipython-input-91-ede19dc96090>\u001b[0m in \u001b[0;36m<module>\u001b[0;34m()\u001b[0m\n\u001b[1;32m      3\u001b[0m \u001b[0mstrings\u001b[0m \u001b[0;34m=\u001b[0m \u001b[0mfit\u001b[0m\u001b[0;34m(\u001b[0m\u001b[0mcorpus\u001b[0m\u001b[0;34m)\u001b[0m\u001b[0;34m\u001b[0m\u001b[0;34m\u001b[0m\u001b[0m\n\u001b[1;32m      4\u001b[0m \u001b[0mprint\u001b[0m\u001b[0;34m(\u001b[0m\u001b[0mlist\u001b[0m\u001b[0;34m(\u001b[0m\u001b[0mvocab\u001b[0m\u001b[0;34m.\u001b[0m\u001b[0mkeys\u001b[0m\u001b[0;34m(\u001b[0m\u001b[0;34m)\u001b[0m\u001b[0;34m)\u001b[0m\u001b[0;34m)\u001b[0m\u001b[0;34m\u001b[0m\u001b[0;34m\u001b[0m\u001b[0m\n\u001b[0;32m----> 5\u001b[0;31m \u001b[0mfinal\u001b[0m\u001b[0;34m=\u001b[0m\u001b[0mtransform\u001b[0m\u001b[0;34m(\u001b[0m\u001b[0mcorpus\u001b[0m\u001b[0;34m,\u001b[0m \u001b[0mvocab\u001b[0m\u001b[0;34m)\u001b[0m\u001b[0;34m.\u001b[0m\u001b[0mtoarray\u001b[0m\u001b[0;34m(\u001b[0m\u001b[0;34m)\u001b[0m\u001b[0;34m\u001b[0m\u001b[0;34m\u001b[0m\u001b[0m\n\u001b[0m\u001b[1;32m      6\u001b[0m \u001b[0mprint\u001b[0m\u001b[0;34m(\u001b[0m\u001b[0mfinal\u001b[0m\u001b[0;34m)\u001b[0m\u001b[0;34m\u001b[0m\u001b[0;34m\u001b[0m\u001b[0m\n",
            "\u001b[0;32m<ipython-input-90-51bbe06ea72e>\u001b[0m in \u001b[0;36mtransform\u001b[0;34m(dataset, vocab)\u001b[0m\n\u001b[1;32m     43\u001b[0m         \u001b[0mprint\u001b[0m\u001b[0;34m(\u001b[0m\u001b[0;34m\"IDX final\"\u001b[0m\u001b[0;34m,\u001b[0m\u001b[0mrows\u001b[0m\u001b[0;34m,\u001b[0m\u001b[0mcolumns\u001b[0m\u001b[0;34m,\u001b[0m\u001b[0mvalues\u001b[0m\u001b[0;34m)\u001b[0m\u001b[0;34m\u001b[0m\u001b[0;34m\u001b[0m\u001b[0m\n\u001b[1;32m     44\u001b[0m         \u001b[0mprint\u001b[0m\u001b[0;34m(\u001b[0m\u001b[0;34m\"Matrix shape\"\u001b[0m\u001b[0;34m,\u001b[0m\u001b[0mlen\u001b[0m\u001b[0;34m(\u001b[0m\u001b[0mdataset\u001b[0m\u001b[0;34m)\u001b[0m\u001b[0;34m,\u001b[0m\u001b[0;34m\"*\"\u001b[0m\u001b[0;34m,\u001b[0m\u001b[0mlen\u001b[0m\u001b[0;34m(\u001b[0m\u001b[0mvocab\u001b[0m\u001b[0;34m)\u001b[0m\u001b[0;34m)\u001b[0m\u001b[0;34m\u001b[0m\u001b[0;34m\u001b[0m\u001b[0m\n\u001b[0;32m---> 45\u001b[0;31m         \u001b[0;32mreturn\u001b[0m \u001b[0mcsr_matrix\u001b[0m\u001b[0;34m(\u001b[0m\u001b[0;34m(\u001b[0m\u001b[0mvalues\u001b[0m\u001b[0;34m,\u001b[0m \u001b[0;34m(\u001b[0m\u001b[0mrows\u001b[0m\u001b[0;34m,\u001b[0m\u001b[0mcolumns\u001b[0m\u001b[0;34m)\u001b[0m\u001b[0;34m)\u001b[0m\u001b[0;34m,\u001b[0m \u001b[0mshape\u001b[0m\u001b[0;34m=\u001b[0m\u001b[0;34m(\u001b[0m\u001b[0mlen\u001b[0m\u001b[0;34m(\u001b[0m\u001b[0mdataset\u001b[0m\u001b[0;34m)\u001b[0m\u001b[0;34m,\u001b[0m\u001b[0mlen\u001b[0m\u001b[0;34m(\u001b[0m\u001b[0mvocab\u001b[0m\u001b[0;34m)\u001b[0m\u001b[0;34m)\u001b[0m\u001b[0;34m)\u001b[0m\u001b[0;34m\u001b[0m\u001b[0;34m\u001b[0m\u001b[0m\n\u001b[0m\u001b[1;32m     46\u001b[0m     \u001b[0;32melse\u001b[0m\u001b[0;34m:\u001b[0m\u001b[0;34m\u001b[0m\u001b[0;34m\u001b[0m\u001b[0m\n\u001b[1;32m     47\u001b[0m         \u001b[0mprint\u001b[0m\u001b[0;34m(\u001b[0m\u001b[0;34m\"you need to pass list of strings\"\u001b[0m\u001b[0;34m)\u001b[0m\u001b[0;34m\u001b[0m\u001b[0;34m\u001b[0m\u001b[0m\n",
            "\u001b[0;32m/usr/local/lib/python3.6/dist-packages/scipy/sparse/compressed.py\u001b[0m in \u001b[0;36m__init__\u001b[0;34m(self, arg1, shape, dtype, copy)\u001b[0m\n\u001b[1;32m     55\u001b[0m                     \u001b[0;31m# (data, ij) format\u001b[0m\u001b[0;34m\u001b[0m\u001b[0;34m\u001b[0m\u001b[0;34m\u001b[0m\u001b[0m\n\u001b[1;32m     56\u001b[0m                     \u001b[0;32mfrom\u001b[0m \u001b[0;34m.\u001b[0m\u001b[0mcoo\u001b[0m \u001b[0;32mimport\u001b[0m \u001b[0mcoo_matrix\u001b[0m\u001b[0;34m\u001b[0m\u001b[0;34m\u001b[0m\u001b[0m\n\u001b[0;32m---> 57\u001b[0;31m                     \u001b[0mother\u001b[0m \u001b[0;34m=\u001b[0m \u001b[0mself\u001b[0m\u001b[0;34m.\u001b[0m\u001b[0m__class__\u001b[0m\u001b[0;34m(\u001b[0m\u001b[0mcoo_matrix\u001b[0m\u001b[0;34m(\u001b[0m\u001b[0marg1\u001b[0m\u001b[0;34m,\u001b[0m \u001b[0mshape\u001b[0m\u001b[0;34m=\u001b[0m\u001b[0mshape\u001b[0m\u001b[0;34m)\u001b[0m\u001b[0;34m)\u001b[0m\u001b[0;34m\u001b[0m\u001b[0;34m\u001b[0m\u001b[0m\n\u001b[0m\u001b[1;32m     58\u001b[0m                     \u001b[0mself\u001b[0m\u001b[0;34m.\u001b[0m\u001b[0m_set_self\u001b[0m\u001b[0;34m(\u001b[0m\u001b[0mother\u001b[0m\u001b[0;34m)\u001b[0m\u001b[0;34m\u001b[0m\u001b[0;34m\u001b[0m\u001b[0m\n\u001b[1;32m     59\u001b[0m                 \u001b[0;32melif\u001b[0m \u001b[0mlen\u001b[0m\u001b[0;34m(\u001b[0m\u001b[0marg1\u001b[0m\u001b[0;34m)\u001b[0m \u001b[0;34m==\u001b[0m \u001b[0;36m3\u001b[0m\u001b[0;34m:\u001b[0m\u001b[0;34m\u001b[0m\u001b[0;34m\u001b[0m\u001b[0m\n",
            "\u001b[0;32m/usr/local/lib/python3.6/dist-packages/scipy/sparse/coo.py\u001b[0m in \u001b[0;36m__init__\u001b[0;34m(self, arg1, shape, dtype, copy)\u001b[0m\n\u001b[1;32m    196\u001b[0m             \u001b[0mself\u001b[0m\u001b[0;34m.\u001b[0m\u001b[0mdata\u001b[0m \u001b[0;34m=\u001b[0m \u001b[0mself\u001b[0m\u001b[0;34m.\u001b[0m\u001b[0mdata\u001b[0m\u001b[0;34m.\u001b[0m\u001b[0mastype\u001b[0m\u001b[0;34m(\u001b[0m\u001b[0mdtype\u001b[0m\u001b[0;34m,\u001b[0m \u001b[0mcopy\u001b[0m\u001b[0;34m=\u001b[0m\u001b[0;32mFalse\u001b[0m\u001b[0;34m)\u001b[0m\u001b[0;34m\u001b[0m\u001b[0;34m\u001b[0m\u001b[0m\n\u001b[1;32m    197\u001b[0m \u001b[0;34m\u001b[0m\u001b[0m\n\u001b[0;32m--> 198\u001b[0;31m         \u001b[0mself\u001b[0m\u001b[0;34m.\u001b[0m\u001b[0m_check\u001b[0m\u001b[0;34m(\u001b[0m\u001b[0;34m)\u001b[0m\u001b[0;34m\u001b[0m\u001b[0;34m\u001b[0m\u001b[0m\n\u001b[0m\u001b[1;32m    199\u001b[0m \u001b[0;34m\u001b[0m\u001b[0m\n\u001b[1;32m    200\u001b[0m     \u001b[0;32mdef\u001b[0m \u001b[0mreshape\u001b[0m\u001b[0;34m(\u001b[0m\u001b[0mself\u001b[0m\u001b[0;34m,\u001b[0m \u001b[0;34m*\u001b[0m\u001b[0margs\u001b[0m\u001b[0;34m,\u001b[0m \u001b[0;34m**\u001b[0m\u001b[0mkwargs\u001b[0m\u001b[0;34m)\u001b[0m\u001b[0;34m:\u001b[0m\u001b[0;34m\u001b[0m\u001b[0;34m\u001b[0m\u001b[0m\n",
            "\u001b[0;32m/usr/local/lib/python3.6/dist-packages/scipy/sparse/coo.py\u001b[0m in \u001b[0;36m_check\u001b[0;34m(self)\u001b[0m\n\u001b[1;32m    281\u001b[0m         \u001b[0mself\u001b[0m\u001b[0;34m.\u001b[0m\u001b[0mdata\u001b[0m \u001b[0;34m=\u001b[0m \u001b[0mto_native\u001b[0m\u001b[0;34m(\u001b[0m\u001b[0mself\u001b[0m\u001b[0;34m.\u001b[0m\u001b[0mdata\u001b[0m\u001b[0;34m)\u001b[0m\u001b[0;34m\u001b[0m\u001b[0;34m\u001b[0m\u001b[0m\n\u001b[1;32m    282\u001b[0m \u001b[0;34m\u001b[0m\u001b[0m\n\u001b[0;32m--> 283\u001b[0;31m         \u001b[0;32mif\u001b[0m \u001b[0mself\u001b[0m\u001b[0;34m.\u001b[0m\u001b[0mnnz\u001b[0m \u001b[0;34m>\u001b[0m \u001b[0;36m0\u001b[0m\u001b[0;34m:\u001b[0m\u001b[0;34m\u001b[0m\u001b[0;34m\u001b[0m\u001b[0m\n\u001b[0m\u001b[1;32m    284\u001b[0m             \u001b[0;32mif\u001b[0m \u001b[0mself\u001b[0m\u001b[0;34m.\u001b[0m\u001b[0mrow\u001b[0m\u001b[0;34m.\u001b[0m\u001b[0mmax\u001b[0m\u001b[0;34m(\u001b[0m\u001b[0;34m)\u001b[0m \u001b[0;34m>=\u001b[0m \u001b[0mself\u001b[0m\u001b[0;34m.\u001b[0m\u001b[0mshape\u001b[0m\u001b[0;34m[\u001b[0m\u001b[0;36m0\u001b[0m\u001b[0;34m]\u001b[0m\u001b[0;34m:\u001b[0m\u001b[0;34m\u001b[0m\u001b[0;34m\u001b[0m\u001b[0m\n\u001b[1;32m    285\u001b[0m                 \u001b[0;32mraise\u001b[0m \u001b[0mValueError\u001b[0m\u001b[0;34m(\u001b[0m\u001b[0;34m'row index exceeds matrix dimensions'\u001b[0m\u001b[0;34m)\u001b[0m\u001b[0;34m\u001b[0m\u001b[0;34m\u001b[0m\u001b[0m\n",
            "\u001b[0;32m/usr/local/lib/python3.6/dist-packages/scipy/sparse/base.py\u001b[0m in \u001b[0;36mnnz\u001b[0;34m(self)\u001b[0m\n\u001b[1;32m    248\u001b[0m         \u001b[0mcount_nonzero\u001b[0m \u001b[0;34m:\u001b[0m \u001b[0mNumber\u001b[0m \u001b[0mof\u001b[0m \u001b[0mnon\u001b[0m\u001b[0;34m-\u001b[0m\u001b[0mzero\u001b[0m \u001b[0mentries\u001b[0m\u001b[0;34m\u001b[0m\u001b[0;34m\u001b[0m\u001b[0m\n\u001b[1;32m    249\u001b[0m         \"\"\"\n\u001b[0;32m--> 250\u001b[0;31m         \u001b[0;32mreturn\u001b[0m \u001b[0mself\u001b[0m\u001b[0;34m.\u001b[0m\u001b[0mgetnnz\u001b[0m\u001b[0;34m(\u001b[0m\u001b[0;34m)\u001b[0m\u001b[0;34m\u001b[0m\u001b[0;34m\u001b[0m\u001b[0m\n\u001b[0m\u001b[1;32m    251\u001b[0m \u001b[0;34m\u001b[0m\u001b[0m\n\u001b[1;32m    252\u001b[0m     \u001b[0;32mdef\u001b[0m \u001b[0mgetformat\u001b[0m\u001b[0;34m(\u001b[0m\u001b[0mself\u001b[0m\u001b[0;34m)\u001b[0m\u001b[0;34m:\u001b[0m\u001b[0;34m\u001b[0m\u001b[0;34m\u001b[0m\u001b[0m\n",
            "\u001b[0;32m/usr/local/lib/python3.6/dist-packages/scipy/sparse/coo.py\u001b[0m in \u001b[0;36mgetnnz\u001b[0;34m(self, axis)\u001b[0m\n\u001b[1;32m    243\u001b[0m             \u001b[0mnnz\u001b[0m \u001b[0;34m=\u001b[0m \u001b[0mlen\u001b[0m\u001b[0;34m(\u001b[0m\u001b[0mself\u001b[0m\u001b[0;34m.\u001b[0m\u001b[0mdata\u001b[0m\u001b[0;34m)\u001b[0m\u001b[0;34m\u001b[0m\u001b[0;34m\u001b[0m\u001b[0m\n\u001b[1;32m    244\u001b[0m             \u001b[0;32mif\u001b[0m \u001b[0mnnz\u001b[0m \u001b[0;34m!=\u001b[0m \u001b[0mlen\u001b[0m\u001b[0;34m(\u001b[0m\u001b[0mself\u001b[0m\u001b[0;34m.\u001b[0m\u001b[0mrow\u001b[0m\u001b[0;34m)\u001b[0m \u001b[0;32mor\u001b[0m \u001b[0mnnz\u001b[0m \u001b[0;34m!=\u001b[0m \u001b[0mlen\u001b[0m\u001b[0;34m(\u001b[0m\u001b[0mself\u001b[0m\u001b[0;34m.\u001b[0m\u001b[0mcol\u001b[0m\u001b[0;34m)\u001b[0m\u001b[0;34m:\u001b[0m\u001b[0;34m\u001b[0m\u001b[0;34m\u001b[0m\u001b[0m\n\u001b[0;32m--> 245\u001b[0;31m                 raise ValueError('row, column, and data array must all be the '\n\u001b[0m\u001b[1;32m    246\u001b[0m                                  'same length')\n\u001b[1;32m    247\u001b[0m \u001b[0;34m\u001b[0m\u001b[0m\n",
            "\u001b[0;31mValueError\u001b[0m: row, column, and data array must all be the same length"
          ]
        }
      ]
    },
    {
      "cell_type": "code",
      "metadata": {
        "id": "bGwMHZzV6BZq",
        "colab_type": "code",
        "colab": {}
      },
      "source": [
        "documents = [\n",
        "     'this is the first document',\n",
        "     'this document is the second document',\n",
        "     'and this is the third one',\n",
        "     'is this the first document',\n",
        "]"
      ],
      "execution_count": 0,
      "outputs": []
    },
    {
      "cell_type": "code",
      "metadata": {
        "id": "F2KpC22w6Ggg",
        "colab_type": "code",
        "outputId": "6384cf0c-ab92-4ddd-cc87-50d97cdff711",
        "colab": {
          "base_uri": "https://localhost:8080/",
          "height": 54
        }
      },
      "source": [
        "import math\n",
        "#First: tokenize words\n",
        "dictOfWords = {}\n",
        "\n",
        "for index, sentence in enumerate(documents):\n",
        "    tokenizedWords = sentence.split(' ')\n",
        "    dictOfWords[index] = [(word,tokenizedWords.count(word)) for word in tokenizedWords]\n",
        "\n",
        "print(dictOfWords)#First: tokenize words\n"
      ],
      "execution_count": 81,
      "outputs": [
        {
          "output_type": "stream",
          "text": [
            "{0: [('this', 1), ('is', 1), ('the', 1), ('first', 1), ('document', 1)], 1: [('this', 1), ('document', 2), ('is', 1), ('the', 1), ('second', 1), ('document', 2)], 2: [('and', 1), ('this', 1), ('is', 1), ('the', 1), ('third', 1), ('one', 1)], 3: [('is', 1), ('this', 1), ('the', 1), ('first', 1), ('document', 1)]}\n"
          ],
          "name": "stdout"
        }
      ]
    },
    {
      "cell_type": "code",
      "metadata": {
        "id": "xxGo75Fe6hIS",
        "colab_type": "code",
        "outputId": "843d289a-2a95-44c4-f6ce-725bdafd8e8f",
        "colab": {
          "base_uri": "https://localhost:8080/",
          "height": 54
        }
      },
      "source": [
        "#second: remove duplicates\n",
        "termFrequency = {}\n",
        "\n",
        "for i in range(0, len(documents)):\n",
        "    listOfNoDuplicates = []\n",
        "    for wordFreq in dictOfWords[i]:\n",
        "        if wordFreq not in listOfNoDuplicates:\n",
        "            listOfNoDuplicates.append(wordFreq)\n",
        "        termFrequency[i] = listOfNoDuplicates\n",
        "print(termFrequency)"
      ],
      "execution_count": 82,
      "outputs": [
        {
          "output_type": "stream",
          "text": [
            "{0: [('this', 1), ('is', 1), ('the', 1), ('first', 1), ('document', 1)], 1: [('this', 1), ('document', 2), ('is', 1), ('the', 1), ('second', 1)], 2: [('and', 1), ('this', 1), ('is', 1), ('the', 1), ('third', 1), ('one', 1)], 3: [('is', 1), ('this', 1), ('the', 1), ('first', 1), ('document', 1)]}\n"
          ],
          "name": "stdout"
        }
      ]
    },
    {
      "cell_type": "markdown",
      "metadata": {
        "id": "uA9DZr1k8SCe",
        "colab_type": "text"
      },
      "source": [
        ""
      ]
    },
    {
      "cell_type": "code",
      "metadata": {
        "id": "VfKiyKgL7Dgq",
        "colab_type": "code",
        "outputId": "7a0825bd-4304-4080-8394-2f3e9569698a",
        "colab": {
          "base_uri": "https://localhost:8080/",
          "height": 54
        }
      },
      "source": [
        "# calculate the term frequency\n",
        "\n",
        "normalizedTermFrequency = {}\n",
        "for i in range(0, len(documents)):\n",
        "    sentence = dictOfWords[i]\n",
        "    lenOfSentence = len(sentence)\n",
        "    listOfNormalized = []\n",
        "    for wordFreq in termFrequency[i]:\n",
        "        normalizedFreq = wordFreq[1]/lenOfSentence\n",
        "        listOfNormalized.append((wordFreq[0],normalizedFreq))\n",
        "    normalizedTermFrequency[i] = listOfNormalized\n",
        "\n",
        "print(normalizedTermFrequency)"
      ],
      "execution_count": 83,
      "outputs": [
        {
          "output_type": "stream",
          "text": [
            "{0: [('this', 0.2), ('is', 0.2), ('the', 0.2), ('first', 0.2), ('document', 0.2)], 1: [('this', 0.16666666666666666), ('document', 0.3333333333333333), ('is', 0.16666666666666666), ('the', 0.16666666666666666), ('second', 0.16666666666666666)], 2: [('and', 0.16666666666666666), ('this', 0.16666666666666666), ('is', 0.16666666666666666), ('the', 0.16666666666666666), ('third', 0.16666666666666666), ('one', 0.16666666666666666)], 3: [('is', 0.2), ('this', 0.2), ('the', 0.2), ('first', 0.2), ('document', 0.2)]}\n"
          ],
          "name": "stdout"
        }
      ]
    },
    {
      "cell_type": "code",
      "metadata": {
        "id": "orbzp33m7e6z",
        "colab_type": "code",
        "outputId": "14bf3418-164e-4ecf-8ea2-72686bea9e08",
        "colab": {
          "base_uri": "https://localhost:8080/",
          "height": 54
        }
      },
      "source": [
        "#---Calculate IDF\n",
        "\n",
        "#First: put al sentences together and tokenze words\n",
        "\n",
        "allDocuments = ''\n",
        "for sentence in documents:\n",
        "    allDocuments += sentence + ' '\n",
        "allDocumentsTokenized = allDocuments.split(' ')\n",
        "\n",
        "print(allDocumentsTokenized)\n"
      ],
      "execution_count": 84,
      "outputs": [
        {
          "output_type": "stream",
          "text": [
            "['this', 'is', 'the', 'first', 'document', 'this', 'document', 'is', 'the', 'second', 'document', 'and', 'this', 'is', 'the', 'third', 'one', 'is', 'this', 'the', 'first', 'document', '']\n"
          ],
          "name": "stdout"
        }
      ]
    },
    {
      "cell_type": "code",
      "metadata": {
        "id": "01ahmb9O7vrx",
        "colab_type": "code",
        "outputId": "f24aba77-1103-47c6-a6fd-442e60a80b16",
        "colab": {
          "base_uri": "https://localhost:8080/",
          "height": 34
        }
      },
      "source": [
        "allDocumentsNoDuplicates = []\n",
        "\n",
        "for word in allDocumentsTokenized:\n",
        "    if word not in allDocumentsNoDuplicates:\n",
        "        allDocumentsNoDuplicates.append(word)\n",
        "\n",
        "\n",
        "print(allDocumentsNoDuplicates)"
      ],
      "execution_count": 85,
      "outputs": [
        {
          "output_type": "stream",
          "text": [
            "['this', 'is', 'the', 'first', 'document', 'second', 'and', 'third', 'one', '']\n"
          ],
          "name": "stdout"
        }
      ]
    },
    {
      "cell_type": "code",
      "metadata": {
        "id": "uT8QplVz75XR",
        "colab_type": "code",
        "outputId": "ba4c883a-f3e6-4e4d-f213-bb17cfc8d43b",
        "colab": {
          "base_uri": "https://localhost:8080/",
          "height": 34
        }
      },
      "source": [
        "#Second calculate the number of documents where the term t appears\n",
        "\n",
        "dictOfNumberOfDocumentsWithTermInside = {}\n",
        "\n",
        "for index, voc in enumerate(allDocumentsNoDuplicates):\n",
        "    count = 0\n",
        "    for sentence in documents:\n",
        "        if voc in sentence:\n",
        "            count += 1\n",
        "    dictOfNumberOfDocumentsWithTermInside[index] = (voc, count)\n",
        "\n",
        "print(dictOfNumberOfDocumentsWithTermInside)"
      ],
      "execution_count": 86,
      "outputs": [
        {
          "output_type": "stream",
          "text": [
            "{0: ('this', 4), 1: ('is', 4), 2: ('the', 4), 3: ('first', 2), 4: ('document', 3), 5: ('second', 1), 6: ('and', 1), 7: ('third', 1), 8: ('one', 1), 9: ('', 4)}\n"
          ],
          "name": "stdout"
        }
      ]
    },
    {
      "cell_type": "code",
      "metadata": {
        "id": "d5WB-vkd8F_p",
        "colab_type": "code",
        "outputId": "a6694a09-9c8d-4208-81e3-03b787870db4",
        "colab": {
          "base_uri": "https://localhost:8080/",
          "height": 54
        }
      },
      "source": [
        "#calculate IDF\n",
        "\n",
        "dictOFIDFNoDuplicates = {}\n",
        "\n",
        "\n",
        "for i in range(0, len(normalizedTermFrequency)):\n",
        "    listOfIDFCalcs = []\n",
        "    for word in normalizedTermFrequency[i]:\n",
        "        for x in range(0, len(dictOfNumberOfDocumentsWithTermInside)):\n",
        "            if word[0] == dictOfNumberOfDocumentsWithTermInside[x][0]:\n",
        "                listOfIDFCalcs.append((word[0],(1+math.log((1+len(documents))/(1+dictOfNumberOfDocumentsWithTermInside[x][1])))))\n",
        "    dictOFIDFNoDuplicates[i] = listOfIDFCalcs\n",
        "\n",
        "print(dictOFIDFNoDuplicates)"
      ],
      "execution_count": 87,
      "outputs": [
        {
          "output_type": "stream",
          "text": [
            "{0: [('this', 1.0), ('is', 1.0), ('the', 1.0), ('first', 1.5108256237659907), ('document', 1.2231435513142097)], 1: [('this', 1.0), ('document', 1.2231435513142097), ('is', 1.0), ('the', 1.0), ('second', 1.916290731874155)], 2: [('and', 1.916290731874155), ('this', 1.0), ('is', 1.0), ('the', 1.0), ('third', 1.916290731874155), ('one', 1.916290731874155)], 3: [('is', 1.0), ('this', 1.0), ('the', 1.0), ('first', 1.5108256237659907), ('document', 1.2231435513142097)]}\n"
          ],
          "name": "stdout"
        }
      ]
    },
    {
      "cell_type": "code",
      "metadata": {
        "id": "sxWqRatA8rAy",
        "colab_type": "code",
        "outputId": "39e4fa4a-b0d9-48bb-e467-a639654d19d9",
        "colab": {
          "base_uri": "https://localhost:8080/",
          "height": 54
        }
      },
      "source": [
        "#Multiply tf by idf for tf-idf\n",
        "\n",
        "dictOFTF_IDF = {}\n",
        "for i in range(0,len(normalizedTermFrequency)):\n",
        "    listOFTF_IDF = []\n",
        "    TFsentence = normalizedTermFrequency[i]\n",
        "    IDFsentence = dictOFIDFNoDuplicates[i]\n",
        "    for x in range(0, len(TFsentence)):\n",
        "        listOFTF_IDF.append((TFsentence[x][0],TFsentence[x][1]*IDFsentence[x][1]))\n",
        "    dictOFTF_IDF[i] = listOFTF_IDF\n",
        "\n",
        "print(dictOFTF_IDF)"
      ],
      "execution_count": 88,
      "outputs": [
        {
          "output_type": "stream",
          "text": [
            "{0: [('this', 0.2), ('is', 0.2), ('the', 0.2), ('first', 0.3021651247531982), ('document', 0.24462871026284194)], 1: [('this', 0.16666666666666666), ('document', 0.40771451710473655), ('is', 0.16666666666666666), ('the', 0.16666666666666666), ('second', 0.3193817886456925)], 2: [('and', 0.3193817886456925), ('this', 0.16666666666666666), ('is', 0.16666666666666666), ('the', 0.16666666666666666), ('third', 0.3193817886456925), ('one', 0.3193817886456925)], 3: [('is', 0.2), ('this', 0.2), ('the', 0.2), ('first', 0.3021651247531982), ('document', 0.24462871026284194)]}\n"
          ],
          "name": "stdout"
        }
      ]
    },
    {
      "cell_type": "code",
      "metadata": {
        "id": "g3PtESfw0GlG",
        "colab_type": "code",
        "outputId": "89ce59d5-34f7-45b9-91aa-063dd1eb0cdc",
        "colab": {
          "base_uri": "https://localhost:8080/",
          "height": 54
        }
      },
      "source": [
        "#Calculate L2 Norms\n",
        "dictL2 = {}\n",
        "for i in range(0,len(normalizedTermFrequency)):\n",
        "  listL2=[]\n",
        "  L2TFsentence = normalizedTermFrequency[i]\n",
        "  L2IDFsentence = dictOFTF_IDF[i]\n",
        "  z=0\n",
        "  for x,y in enumerate(L2IDFsentence):\n",
        "      z=z + y[1]*y[1]\n",
        "  z1=math.sqrt(z)\n",
        "  for x in range(0, len(L2TFsentence)):\n",
        "    listL2.append((L2TFsentence[x][0],L2IDFsentence[x][1]/z1))\n",
        "    dictL2[i] = listL2\n",
        "print(dictL2)"
      ],
      "execution_count": 89,
      "outputs": [
        {
          "output_type": "stream",
          "text": [
            "{0: [('this', 0.3840852409148149), ('is', 0.3840852409148149), ('the', 0.3840852409148149), ('first', 0.580285823684436), ('document', 0.4697913855799205)], 1: [('this', 0.2810886740337529), ('document', 0.6876235979836937), ('is', 0.2810886740337529), ('the', 0.2810886740337529), ('second', 0.5386476208856762)], 2: [('and', 0.511848512707169), ('this', 0.267103787642168), ('is', 0.267103787642168), ('the', 0.267103787642168), ('third', 0.511848512707169), ('one', 0.511848512707169)], 3: [('is', 0.3840852409148149), ('this', 0.3840852409148149), ('the', 0.3840852409148149), ('first', 0.580285823684436), ('document', 0.4697913855799205)]}\n"
          ],
          "name": "stdout"
        }
      ]
    },
    {
      "cell_type": "code",
      "metadata": {
        "id": "h0snkU6FInF8",
        "colab_type": "code",
        "colab": {}
      },
      "source": [
        "#Dense matrix\n",
        "from scipy.sparse import csr_matrix\n"
      ],
      "execution_count": 0,
      "outputs": []
    },
    {
      "cell_type": "markdown",
      "metadata": {
        "id": "MMxBmVZExLjK",
        "colab_type": "text"
      },
      "source": [
        "## Task-2"
      ]
    },
    {
      "cell_type": "markdown",
      "metadata": {
        "id": "51j_OtqAxLjL",
        "colab_type": "text"
      },
      "source": [
        "<font face='georgia'>\n",
        "    <h4><strong>2. Implement max features functionality:</strong></h4>\n",
        "\n",
        "<ul>\n",
        "    <li> As a part of this task you have to modify your fit and transform functions so that your vocab will contain only 50 terms with top idf scores.</li>\n",
        "    <br>\n",
        "    <li>This task is similar to your previous task, just that here your vocabulary is limited to only top 50 features names based on their idf values. Basically your output will have exactly 50 columns and the number of rows will depend on the number of documents you have in your corpus.</li>\n",
        "    <br>\n",
        "    <li>Here you will be give a pickle file, with file name <strong>cleaned_strings</strong>. You would have to load the corpus from this file and use it as input to your tfidf vectorizer.</li>\n",
        "    <br>\n",
        "    <li>Steps to approach this task:\n",
        "    <ol>\n",
        "        <li> You would have to write both fit and transform methods for your custom implementation of tfidf vectorizer, just like in the previous task. Additionally, here you have to limit the number of features generated to 50 as described above.</li>\n",
        "        <li> Now sort your vocab based in descending order of idf values and print out the words in the sorted voacb after you fit your data. Here you should be getting only 50 terms in your vocab. And make sure to print idf values for each term in your vocab. </li>\n",
        "        <li> Make sure the output of your implementation is a sparse matrix. Before generating the final output, you need to normalize your sparse matrix using L2 normalization. You can refer to this link https://scikit-learn.org/stable/modules/generated/sklearn.preprocessing.normalize.html </li>\n",
        "        <li> Now check the output of a single document in your collection of documents,  you can convert the sparse matrix related only to that document into dense matrix and print it. And this dense matrix should contain 1 row and 50 columns. </li>\n",
        "        </ol>\n",
        "    </li>\n",
        "    <br>\n",
        "   </ul>"
      ]
    },
    {
      "cell_type": "code",
      "metadata": {
        "id": "NHxPLlwNxLjL",
        "colab_type": "code",
        "outputId": "9abd8e08-0e24-4975-9a13-4d3636d60323",
        "colab": {}
      },
      "source": [
        "# Below is the code to load the cleaned_strings pickle file provided\n",
        "# Here corpus is of list type\n",
        "\n",
        "import pickle\n",
        "with open('cleaned_strings', 'rb') as f:\n",
        "    corpus = pickle.load(f)\n",
        "    \n",
        "# printing the length of the corpus loaded\n",
        "print(\"Number of documents in corpus = \",len(corpus))"
      ],
      "execution_count": 0,
      "outputs": [
        {
          "output_type": "stream",
          "text": [
            "Number of documents in corpus =  746\n"
          ],
          "name": "stdout"
        }
      ]
    },
    {
      "cell_type": "code",
      "metadata": {
        "id": "ZULfoOIdxLjQ",
        "colab_type": "code",
        "colab": {}
      },
      "source": [
        "# Write your code here.\n",
        "# Try not to hardcode any values.\n",
        "# Make sure its well documented and readble with appropriate comments."
      ],
      "execution_count": 0,
      "outputs": []
    },
    {
      "cell_type": "code",
      "metadata": {
        "id": "1_DJnnR3xLjR",
        "colab_type": "code",
        "colab": {}
      },
      "source": [
        ""
      ],
      "execution_count": 0,
      "outputs": []
    }
  ]
}