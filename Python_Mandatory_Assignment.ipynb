{
  "nbformat": 4,
  "nbformat_minor": 0,
  "metadata": {
    "kernelspec": {
      "display_name": "Python 3",
      "language": "python",
      "name": "python3"
    },
    "language_info": {
      "codemirror_mode": {
        "name": "ipython",
        "version": 3
      },
      "file_extension": ".py",
      "mimetype": "text/x-python",
      "name": "python",
      "nbconvert_exporter": "python",
      "pygments_lexer": "ipython3",
      "version": "3.6.6"
    },
    "colab": {
      "name": "Python_Mandatory_Assignment.ipynb",
      "provenance": []
    }
  },
  "cells": [
    {
      "cell_type": "markdown",
      "metadata": {
        "id": "AgjhhGQxbsbL",
        "colab_type": "text"
      },
      "source": [
        "<h1>Python: without numpy or sklearn </h1>"
      ]
    },
    {
      "cell_type": "markdown",
      "metadata": {
        "id": "3zjvPALybsbO",
        "colab_type": "text"
      },
      "source": [
        "<h3> Q1: Given two matrices please print the product of those two matrices </h3>\n",
        "<pre>\n",
        "\n",
        "Ex 1: A   = [[1 3 4]\n",
        "             [2 5 7]\n",
        "             [5 9 6]]\n",
        "      B   = [[1 0 0]\n",
        "             [0 1 0]\n",
        "             [0 0 1]]\n",
        "      A*B = [[1 3 4]\n",
        "             [2 5 7]\n",
        "             [5 9 6]]\n",
        "\n",
        "     \n",
        "Ex 2: A   = [[1 2]\n",
        "             [3 4]]\n",
        "      B   = [[1 2 3 4 5]\n",
        "             [5 6 7 8 9]]\n",
        "      A*B = [[11 14 17 20 23]\n",
        "             [18 24 30 36 42]]\n",
        "             \n",
        "Ex 3: A   = [[1 2]\n",
        "             [3 4]]\n",
        "      B   = [[1 4]\n",
        "             [5 6]\n",
        "             [7 8]\n",
        "             [9 6]]\n",
        "      A*B =Not possible\n",
        "</pre>"
      ]
    },
    {
      "cell_type": "code",
      "metadata": {
        "id": "TQ6BLRphbsbQ",
        "colab_type": "code",
        "outputId": "7f7c490c-cb89-4550-e5be-ad5068eed77a",
        "colab": {
          "base_uri": "https://localhost:8080/",
          "height": 170
        }
      },
      "source": [
        "# write your python code here\n",
        "# you can take the above example as sample input for your program to test\n",
        "# it should work for any general input try not to hard code for only given input examples\n",
        "\n",
        "\n",
        "# you can free to change all these codes/structure\n",
        "# here A and B are list of lists\n",
        "A   = [[1, 3, 4],\n",
        "       [2, 5, 7],\n",
        "       [5, 9, 6]]\n",
        "B   = [[1, 0, 0],\n",
        "       [0, 1 ,0],\n",
        "       [0 ,0, 1]]\n",
        "A1   = [[1, 2],\n",
        "       [3, 4]]\n",
        "B1   = [[1, 2, 3, 4, 5],\n",
        "       [5, 6 ,7 ,8 ,9]]\n",
        "A2   = [[1, 2],\n",
        "       [3, 4]]\n",
        "B2   = [[1, 4],\n",
        "      [5, 6],\n",
        "      [7, 8],\n",
        "      [9, 6]]\n",
        "\n",
        "def matrixmult (A, B):\n",
        "    rows_A = len(A)\n",
        "    cols_A = len(A[0])\n",
        "    rows_B = len(B)\n",
        "    cols_B = len(B[0])\n",
        "\n",
        "    if cols_A != rows_B:\n",
        "      print(\"A*B =Not possible.\")\n",
        "      return\n",
        "\n",
        "    # Create the result matrix\n",
        "    # Dimensions would be rows_A x cols_B\n",
        "    C = [[0 for row in range(cols_B)] for col in range(rows_A)]\n",
        "   # print(C)\n",
        "\n",
        "    for i in range(rows_A):\n",
        "        for j in range(cols_B):\n",
        "            for k in range(cols_A):\n",
        "                C[i][j] += A[i][k] * B[k][j]\n",
        "    for c in C:\n",
        "       print(c)\n",
        "\n",
        "   \n",
        "print(\"First matrix\")\n",
        "matrixmult(A, B)\n",
        "print(\"Second matrix\")\n",
        "matrixmult(A1,B1)\n",
        "print(\"Third matrix\")\n",
        "matrixmult(A2,B2)\n"
      ],
      "execution_count": 0,
      "outputs": [
        {
          "output_type": "stream",
          "text": [
            "First matrix\n",
            "[1, 3, 4]\n",
            "[2, 5, 7]\n",
            "[5, 9, 6]\n",
            "Second matrix\n",
            "[11, 14, 17, 20, 23]\n",
            "[23, 30, 37, 44, 51]\n",
            "Third matrix\n",
            "A*B =Not possible.\n"
          ],
          "name": "stdout"
        }
      ]
    },
    {
      "cell_type": "markdown",
      "metadata": {
        "id": "EMsFuMYfbsbV",
        "colab_type": "text"
      },
      "source": [
        "<h3> Q2: Select a number randomly with probability proportional to its magnitude from the given array of n elements</h3>\n",
        "\n",
        "consider an experiment, selecting an element from the list A randomly with probability proportional to its magnitude.\n",
        "assume we are doing the same experiment for 100 times with replacement, in each experiment you will print a number that is selected randomly from A.\n",
        "\n",
        "<pre>\n",
        "Ex 1: A = [0 5 27 6 13 28 100 45 10 79]\n",
        "let f(x) denote the number of times x getting selected in 100 experiments.\n",
        "f(100) > f(79) > f(45) > f(28) > f(27) > f(13) > f(10) > f(6) > f(5) > f(0)\n",
        "</pre>"
      ]
    },
    {
      "cell_type": "code",
      "metadata": {
        "id": "6bO77QmSbsbW",
        "colab_type": "code",
        "outputId": "bf63730c-69cd-4134-d80b-9a9162ec8ef4",
        "colab": {
          "base_uri": "https://localhost:8080/",
          "height": 71
        }
      },
      "source": [
        "from random import uniform\n",
        "from random import choices\n",
        "# write your python code here\n",
        "# you can take the above example as sample input for your program to test\n",
        "# it should work for any general input try not to hard code for only given input examples\n",
        "\n",
        "\n",
        "# you can free to change all these codes/structure\n",
        "\n",
        "A = [0,5,27,6,13,28,100,45,10,79]\n",
        "def pick_a_number_from_list(A):\n",
        "  sum=0\n",
        "  for i in range(len(A)):\n",
        "    sum = sum + A[i]\n",
        "  c_dash=[]\n",
        "  for i in range(len(A)):\n",
        "    c_dash.append(A[i]/sum)\n",
        "  #Cummulative sum\n",
        "  c_bar=[]\n",
        "  for i in range(len(A)):\n",
        "    c_bar.append(0)\n",
        "  #c_bar=0\n",
        "  for i in range(len(A)):\n",
        "    c_bar[i]=c_dash[i]+c_bar[i]\n",
        "  r = uniform(0.0,1.0)\n",
        "  number=0\n",
        "  print(\"Random Numer\",r)\n",
        " # print(\"C-bar\",c_bar)\n",
        "  x = choices(A,c_bar,k=100)\n",
        "\n",
        "  print(x)\n",
        "   \n",
        "\n",
        "def sampling_based_on_magnitued():\n",
        "  pick_a_number_from_list(A)\n",
        "\n",
        "   \n",
        "sampling_based_on_magnitued()"
      ],
      "execution_count": 0,
      "outputs": [
        {
          "output_type": "stream",
          "text": [
            "Random Numer 0.11296054000663958\n",
            "[27, 100, 100, 45, 100, 100, 100, 27, 28, 100, 6, 27, 100, 79, 28, 79, 100, 79, 100, 45, 45, 79, 79, 79, 45, 13, 5, 6, 100, 79, 28, 79, 100, 79, 100, 100, 27, 27, 45, 100, 45, 100, 100, 13, 27, 45, 28, 100, 28, 100, 79, 45, 79, 45, 100, 10, 79, 27, 79, 79, 45, 45, 100, 45, 100, 79, 6, 27, 100, 79, 100, 45, 100, 10, 45, 100, 100, 45, 27, 45, 45, 27, 45, 79, 79, 27, 27, 13, 100, 79, 10, 79, 100, 79, 100, 79, 45, 45, 79, 28]\n"
          ],
          "name": "stdout"
        }
      ]
    },
    {
      "cell_type": "markdown",
      "metadata": {
        "id": "XDxmtIS9bsbb",
        "colab_type": "text"
      },
      "source": [
        "<h3> Q3: Replace the digits in the string with #</h3>\n",
        "\n",
        "Consider a string that will have digits in that, we need to remove all the characters which are not digits and replace the digits with #\n",
        "<pre>\n",
        "Ex 1: A = 234                Output: ###\n",
        "Ex 2: A = a2b3c4             Output: ###\n",
        "Ex 3: A = abc                Output:   (empty string)\n",
        "Ex 5: A = #2a$#b%c%561#      Output: ####\n",
        "</pre>"
      ]
    },
    {
      "cell_type": "code",
      "metadata": {
        "id": "XPMLxTD9bsbc",
        "colab_type": "code",
        "outputId": "23bc4cd1-0a4b-4776-e43e-e34eab9b4906",
        "colab": {
          "base_uri": "https://localhost:8080/",
          "height": 51
        }
      },
      "source": [
        "import re\n",
        "# write your python code here\n",
        "# you can take the above example as sample input for your program to test\n",
        "# it should work for any general input try not to hard code for only given input examples\n",
        "\n",
        "# you can free to change all these codes/structure\n",
        "# String: it will be the input to your program\n",
        "String = input (\"Enter numeric string :\") \n",
        "def replace_digits(String):\n",
        "  # write your code\n",
        "   # \n",
        "  result = re.sub(r\"[a-z]\", \"\", String, flags=re.I)\n",
        "  result1 = re.sub(r\"[0-9]\", \"#\", result, flags=re.I)\n",
        "  print(\"Output :\",result1)\n",
        "#  return() # modified string which is after replacing the # with digits\n",
        "\n",
        "replace_digits(String)\n"
      ],
      "execution_count": 0,
      "outputs": [
        {
          "output_type": "stream",
          "text": [
            "Enter numeric string :234fgh6\n",
            "Output : ####\n"
          ],
          "name": "stdout"
        }
      ]
    },
    {
      "cell_type": "markdown",
      "metadata": {
        "id": "OeA25GwZbsbh",
        "colab_type": "text"
      },
      "source": [
        "<h3> Q4: Students marks dashboard</h3>\n",
        "\n",
        "Consider the marks list of class students given in two lists <br>\n",
        "Students = ['student1','student2','student3','student4','student5','student6','student7','student8','student9','student10'] <br>\n",
        "Marks = [45, 78, 12, 14, 48, 43, 45, 98, 35, 80] <br>\n",
        "from the above two lists the Student[0] got Marks[0],  Student[1] got Marks[1] and so on. <br><br>\n",
        "\n",
        "Your task is to print the name of students\n",
        "\n",
        "<strong>a. Who got top 5 ranks, in the descending order of marks</strong> <br>\n",
        "<strong>b. Who got least 5 ranks, in the increasing order of marks</strong><br>\n",
        "<strong>d. Who got marks between  &gt;25th percentile &lt;75th percentile, in the increasing order of marks.</strong>\n",
        "\n",
        "<pre>\n",
        "Ex 1: \n",
        "Students=['student1','student2','student3','student4','student5','student6','student7','student8','student9','student10'] \n",
        "Marks = [45, 78, 12, 14, 48, 43, 47, 98, 35, 80]\n",
        "\n",
        "a. \n",
        "student8  98\n",
        "student10 80\n",
        "student2  78\n",
        "student5  48\n",
        "student7  47\n",
        "\n",
        "b.\n",
        "student3 12\n",
        "student4 14\n",
        "student9 35\n",
        "student6 43\n",
        "student1 45\n",
        "\n",
        "c.\n",
        "student9 35\n",
        "student6 43\n",
        "student1 45\n",
        "student7 47\n",
        "student5 48\n",
        "</pre>"
      ]
    },
    {
      "cell_type": "code",
      "metadata": {
        "id": "FDzKnjgZbsbj",
        "colab_type": "code",
        "outputId": "723fbaa6-08ec-4420-e7ba-57bf4bdcdffd",
        "colab": {
          "base_uri": "https://localhost:8080/",
          "height": 663
        }
      },
      "source": [
        "# write your python code here\n",
        "# you can take the above example as sample input for your program to test\n",
        "# it should work for any general input try not to hard code for only given input examples\n",
        "\n",
        "# you can free to change all these codes/structure\n",
        "# number of elemetns as input \n",
        "n = int(input(\"Enter number of elements : \")) \n",
        "\n",
        "students=[]\n",
        "for num in range(n):\n",
        "    x=str(input(\"Enter name of students: \"))\n",
        "    students.append(x)\n",
        "\n",
        "marks=[]\n",
        "for num1 in range(n):\n",
        "    y=int(input(\"Enter marks of students:\"))\n",
        "    marks.append(y)\n",
        "\n",
        "#print(students,marks)\n",
        "#students=['student1','student2','student3','student4','student5','student6','student7','student8','student9','student10'] \n",
        "#marks = [45, 78, 12, 14, 48, 43, 47, 98, 35, 80]\n",
        "def display_dash_board(students, marks):\n",
        "\n",
        "    # write code for computing top top 5 students\n",
        "    dictionary = dict(zip(students,marks))\n",
        "    print(\"top 5 ranks, in the descending order of marks \")\n",
        "    for key, value in sorted(dictionary.items(), key=lambda item: item[1],reverse=True)[:5]:\n",
        "      print(\"%s: %s\" % (key, value))\n",
        "      top_5_students = (key, value)\n",
        "    # write code for computing top least 5 students\n",
        "    print(\"least 5 ranks, in the increasing order of marks\")\n",
        "    for key, value in sorted(dictionary.items(), key=lambda item: item[1])[:5]:\n",
        "      print(\"%s: %s\" % (key, value))\n",
        "    #  least_5_students = (key, value)\n",
        "    # write code for computing top least 5 students\n",
        "    print(\"marks between >25th percentile <75th percentile, in the increasing order of marks\")\n",
        "    for key, value in sorted(dictionary.items(), key=lambda item: item[1]):\n",
        "      percentage = value * 100.0 / 100 \n",
        "      if 25 < percentage < 75 :\n",
        "        print(\"%s: %s : %d\" % (key, value, percentage))\n",
        "     #   students_within_25_and_75 = (key, value, percentage)\n",
        "    \n",
        "    #return top_5_students, least_5_students, students_within_25_and_75\n",
        "\n",
        "display_dash_board(students, marks)\n",
        "\n"
      ],
      "execution_count": 0,
      "outputs": [
        {
          "output_type": "stream",
          "text": [
            "Enter number of elements : 10\n",
            "Enter name of students: t1\n",
            "Enter name of students: t2\n",
            "Enter name of students: t3\n",
            "Enter name of students: t4\n",
            "Enter name of students: t5\n",
            "Enter name of students: t6\n",
            "Enter name of students: t7\n",
            "Enter name of students: t8\n",
            "Enter name of students: t9\n",
            "Enter name of students: t10\n",
            "Enter marks of students:45\n",
            "Enter marks of students:78\n",
            "Enter marks of students:12\n",
            "Enter marks of students:14\n",
            "Enter marks of students:48\n",
            "Enter marks of students:3\n",
            "Enter marks of students:47\n",
            "Enter marks of students:98\n",
            "Enter marks of students:35\n",
            "Enter marks of students:80\n",
            "top 5 ranks, in the descending order of marks \n",
            "t8: 98\n",
            "t10: 80\n",
            "t2: 78\n",
            "t5: 48\n",
            "t7: 47\n",
            "least 5 ranks, in the increasing order of marks\n",
            "t6: 3\n",
            "t3: 12\n",
            "t4: 14\n",
            "t9: 35\n",
            "t1: 45\n",
            "marks between >25th percentile <75th percentile, in the increasing order of marks\n",
            "t9: 35 : 35\n",
            "t1: 45 : 45\n",
            "t7: 47 : 47\n",
            "t5: 48 : 48\n"
          ],
          "name": "stdout"
        }
      ]
    },
    {
      "cell_type": "code",
      "metadata": {
        "id": "YqTS11XWvcnB",
        "colab_type": "code",
        "colab": {}
      },
      "source": [
        ""
      ],
      "execution_count": 0,
      "outputs": []
    },
    {
      "cell_type": "markdown",
      "metadata": {
        "id": "qhXQX_pibsbo",
        "colab_type": "text"
      },
      "source": [
        "<h3> Q5: Find the closest points</h3>\n",
        "\n",
        "Consider you are given n data points in the form of list of tuples like S=[(x1,y1),(x2,y2),(x3,y3),(x4,y4),(x5,y5),..,(xn,yn)] and a point P=(p,q) <br> your task is to find 5 closest points(based on cosine distance) in S from P\n",
        "\n",
        "<br>Cosine distance between two points (x,y) and (p,q) is defined as $cos^{-1}(\\frac{(x\\cdot p+y\\cdot q)}{\\sqrt(x^2+y^2)\\cdot\\sqrt(p^2+q^2)})$\n",
        "<pre>\n",
        "Ex:\n",
        "\n",
        "S= [(1,2),(3,4),(-1,1),(6,-7),(0, 6),(-5,-8),(-1,-1)(6,0),(1,-1)]\n",
        "P= (3,-4)\n",
        "<img src='https://i.imgur.com/vIFPOcG.jpg', width=300>\n",
        "Output:\n",
        "(6,-7)\n",
        "(1,-1)\n",
        "(6,0)\n",
        "(-5,-8)\n",
        "(-1,-1)\n",
        "</pre>"
      ]
    },
    {
      "cell_type": "code",
      "metadata": {
        "id": "7vnuX6Xobsbr",
        "colab_type": "code",
        "outputId": "33b55b5a-8e33-45a3-c91b-93fef6fb916b",
        "colab": {
          "base_uri": "https://localhost:8080/",
          "height": 452
        }
      },
      "source": [
        "import math\n",
        "\n",
        "# write your python code here\n",
        "# you can take the above example as sample input for your program to test\n",
        "# it should work for any general input try not to hard code for only given input examples\n",
        "# you can free to change all these codes/structure\n",
        "x = [1, 3, -1,6,0,-5,-1,6,1]\n",
        "y = [2, 4, 1,-7,6,-8,-1,0,-1]\n",
        "S = list(zip(x,y))\n",
        "print(S)\n",
        "P=(3,-4)\n",
        "print(P)\n",
        "x=[lis[0] for lis in S]\n",
        "y=[lis[1] for lis in S]\n",
        "p=P[0]\n",
        "q=P[1]\n",
        "print(\"X\",x)\n",
        "print(\"Y\",y)\n",
        "print(\"P\",p)\n",
        "print(\"q\",q)\n",
        "m=[]\n",
        "i=0\n",
        "for i in range(7):\n",
        "  m=math.acos((x[i]*p+y[i]*q)/((math.sqrt((x[i]*x[i])+y[i]*y[i])*math.sqrt(p*p+q*q))))\n",
        "  print(m)\n",
        "\n",
        "print(', '.join('{:0.2f}'.format(i) for i in m))\n",
        "\n",
        "# here S is list of tuples and P is a tuple ot len=2\n",
        "def closest_points_to_p(S, P):\n",
        "    # write your code here\n",
        "    return closest_points_to_p  # its list of tuples\n",
        "\n",
        "#S= [(1,2),(3,4),(-1,1),(6,-7),(0, 6),(-5,-8),(-1,-1)(6,0),(1,-1)]\n",
        "#P= (3,-4)\n",
        "#points = closest_points_to_p(S, P)\n",
        "print() #print the returned values"
      ],
      "execution_count": 0,
      "outputs": [
        {
          "output_type": "stream",
          "text": [
            "[(1, 2), (3, 4), (-1, 1), (6, -7), (0, 6), (-5, -8), (-1, -1), (6, 0), (1, -1)]\n",
            "(3, -4)\n",
            "X [1, 3, -1, 6, 0, -5, -1, 6, 1]\n",
            "Y [2, 4, 1, -7, 6, -8, -1, 0, -1]\n",
            "P 3\n",
            "q -4\n",
            "2.0344439357957027\n",
            "1.8545904360032246\n",
            "2.9996955989856287\n",
            "0.06512516333438509\n",
            "2.498091544796509\n",
            "1.2021004241368467\n",
            "1.4288992721907328\n"
          ],
          "name": "stdout"
        },
        {
          "output_type": "error",
          "ename": "TypeError",
          "evalue": "ignored",
          "traceback": [
            "\u001b[0;31m---------------------------------------------------------------------------\u001b[0m",
            "\u001b[0;31mTypeError\u001b[0m                                 Traceback (most recent call last)",
            "\u001b[0;32m<ipython-input-51-aad1c504a107>\u001b[0m in \u001b[0;36m<module>\u001b[0;34m()\u001b[0m\n\u001b[1;32m     25\u001b[0m   \u001b[0mprint\u001b[0m\u001b[0;34m(\u001b[0m\u001b[0mm\u001b[0m\u001b[0;34m)\u001b[0m\u001b[0;34m\u001b[0m\u001b[0;34m\u001b[0m\u001b[0m\n\u001b[1;32m     26\u001b[0m \u001b[0;34m\u001b[0m\u001b[0m\n\u001b[0;32m---> 27\u001b[0;31m \u001b[0mprint\u001b[0m\u001b[0;34m(\u001b[0m\u001b[0;34m', '\u001b[0m\u001b[0;34m.\u001b[0m\u001b[0mjoin\u001b[0m\u001b[0;34m(\u001b[0m\u001b[0;34m'{:0.2f}'\u001b[0m\u001b[0;34m.\u001b[0m\u001b[0mformat\u001b[0m\u001b[0;34m(\u001b[0m\u001b[0mi\u001b[0m\u001b[0;34m)\u001b[0m \u001b[0;32mfor\u001b[0m \u001b[0mi\u001b[0m \u001b[0;32min\u001b[0m \u001b[0mm\u001b[0m\u001b[0;34m)\u001b[0m\u001b[0;34m)\u001b[0m\u001b[0;34m\u001b[0m\u001b[0;34m\u001b[0m\u001b[0m\n\u001b[0m\u001b[1;32m     28\u001b[0m \u001b[0;34m\u001b[0m\u001b[0m\n\u001b[1;32m     29\u001b[0m \u001b[0;31m# here S is list of tuples and P is a tuple ot len=2\u001b[0m\u001b[0;34m\u001b[0m\u001b[0;34m\u001b[0m\u001b[0;34m\u001b[0m\u001b[0m\n",
            "\u001b[0;31mTypeError\u001b[0m: 'float' object is not iterable"
          ]
        }
      ]
    },
    {
      "cell_type": "markdown",
      "metadata": {
        "id": "t_ziGbDobsbv",
        "colab_type": "text"
      },
      "source": [
        "<h3> Q6: Find which line separates oranges and apples</h3>\n",
        "\n",
        "Consider you are given two set of data points in the form of list of tuples like \n",
        "<pre>\n",
        "Red =[(R11,R12),(R21,R22),(R31,R32),(R41,R42),(R51,R52),..,(Rn1,Rn2)]\n",
        "Blue=[(B11,B12),(B21,B22),(B31,B32),(B41,B42),(B51,B52),..,(Bm1,Bm2)]\n",
        "</pre>\n",
        "and set of line equations(in the string format, i.e list of strings)\n",
        "<pre>\n",
        "Lines = [a1x+b1y+c1,a2x+b2y+c2,a3x+b3y+c3,a4x+b4y+c4,..,K lines]\n",
        "Note: You need to do string parsing here and get the coefficients of x,y and intercept.\n",
        "</pre>\n",
        "Your task here is to print \"YES\"/\"NO\" for each line given. You should print YES, if all the red points are one side of the line and blue points are on other side of the line, otherwise you should print NO.\n",
        "<pre>\n",
        "Ex:\n",
        "Red= [(1,1),(2,1),(4,2),(2,4), (-1,4)]\n",
        "Blue= [(-2,-1),(-1,-2),(-3,-2),(-3,-1),(1,-3)]\n",
        "Lines=[\"1x+1y+0\",\"1x-1y+0\",\"1x+0y-3\",\"0x+1y-0.5\"]\n",
        "<img src='https://i.imgur.com/DoQf7mE.jpg' width=400>\n",
        "Output:\n",
        "YES\n",
        "NO\n",
        "NO\n",
        "YES\n",
        "</pre>"
      ]
    },
    {
      "cell_type": "code",
      "metadata": {
        "id": "YR-uWpW3bsbw",
        "colab_type": "code",
        "colab": {}
      },
      "source": [
        "import math\n",
        "# write your python code here\n",
        "# you can take the above example as sample input for your program to test\n",
        "# it should work for any general input try not to hard code for only given input strings\n",
        "\n",
        "\n",
        "# you can free to change all these codes/structure\n",
        "def i_am_the_one(red,blue,line):\n",
        "    # your code\n",
        "    return #yes/no\n",
        "\n",
        "Red= [(1,1),(2,1),(4,2),(2,4), (-1,4)]\n",
        "Blue= [(-2,-1),(-1,-2),(-3,-2),(-3,-1),(1,-3)]\n",
        "Lines=[\"1x+1y+0\",\"1x-1y+0\",\"1x+0y-3\",\"0x+1y-0.5\"]\n",
        "\n",
        "for i in Lines:\n",
        "    yes_or_no = i_am_the_one(Red, Blue, i)\n",
        "    print() # the returned value"
      ],
      "execution_count": 0,
      "outputs": []
    },
    {
      "cell_type": "markdown",
      "metadata": {
        "id": "S-IZITipbsb0",
        "colab_type": "text"
      },
      "source": [
        "<h3> Q7: Filling the missing values in the specified format</h3>\n",
        "\n",
        "You will be given a string with digits and '\\_'(missing value) symbols you have to replace the '\\_' symbols as explained \n",
        "\n",
        "<pre>\n",
        "Ex 1: _, _, _, 24 ==> 24/4, 24/4, 24/4, 24/4 i.e we. have distributed the 24 equally to all 4 places <br>\n",
        "Ex 2: 40, _, _, _, 60 ==> (60+40)/5,(60+40)/5,(60+40)/5,(60+40)/5,(60+40)/5 ==> 20, 20, 20, 20, 20 i.e. the sum of (60+40) is distributed qually to all 5 places<br>\n",
        "Ex 3: 80, _, _, _, _  ==> 80/5,80/5,80/5,80/5,80/5 ==> 16, 16, 16, 16, 16 i.e. the 80 is distributed qually to all 5 missing values that are right to it<br>\n",
        "Ex 4: _, _, 30, _, _, _, 50, _, _  \n",
        "==> we will fill the missing values from left to right \n",
        "    a. first we will distribute the 30 to left two missing values (10, 10, 10, _, _, _, 50, _, _)\n",
        "    b. now distribute the sum (10+50) missing values in between (10, 10, 12, 12, 12, 12, 12, _, _) \n",
        "    c. now we will distribute 12 to right side missing values (10, 10, 12, 12, 12, 12, 4, 4, 4)\n",
        "</pre>\n",
        "for a given string with comma seprate values, which will have both missing values numbers like ex: \"_, _, x, _, _, _\"\n",
        "you need fill the missing values\n",
        "\n",
        "Q: your program reads a string like ex: \"_, _, x, _, _, _\" and returns the filled sequence\n",
        "\n",
        "Ex: \n",
        "<pre>\n",
        "Input1: \"_,_,_,24\"\n",
        "Output1: 6,6,6,6\n",
        "\n",
        "Input2: \"40,_,_,_,60\"\n",
        "Output2: 20,20,20,20,20\n",
        "\n",
        "Input3: \"80,_,_,_,_\"\n",
        "Output3: 16,16,16,16,16\n",
        "\n",
        "Input4: \"_,_,30,_,_,_,50,_,_\"\n",
        "Output4: 10,10,12,12,12,12,4,4,4\n",
        "</pre>\n",
        "\n"
      ]
    },
    {
      "cell_type": "code",
      "metadata": {
        "id": "qBhciZ0hbsb1",
        "colab_type": "code",
        "colab": {
          "base_uri": "https://localhost:8080/",
          "height": 384
        },
        "outputId": "c0668c40-e6a8-42a8-be29-59a883c7826e"
      },
      "source": [
        "# write your python code here\n",
        "# you can take the above example as sample input for your program to test\n",
        "# it should work for any general input try not to hard code for only given input strings\n",
        "\n",
        "\n",
        "# you can free to change all these codes/structure\n",
        "def curve_smoothing(string):\n",
        "  blank_count=0\n",
        "  value_count = 0\n",
        "  sequenceNumber = 0\n",
        "  splitString = string.split(\",\")\n",
        "  print(\"Input:\",string)\n",
        "  #print(string)\n",
        "  print(splitString)\n",
        "  totalNumbers = len(splitString)\n",
        "  for i in range(1,len(splitString)):\n",
        "    print(i)\n",
        "    if a[i]==\"_\":\n",
        "\n",
        "      blank_count+=1\n",
        "      print(\"AAA\")\n",
        "    else :\n",
        "      print(\"Anoop\")\n",
        "      value_count=int(i)+int(value_count)\n",
        "    sequenceNumber = int(value_count/totalNumbers)\n",
        "    print(sequenceNumber)\n",
        "    lst1=[]  \n",
        "    for i in range(totalNumbers):\n",
        "      lst1.append(str(sequenceNumber))\n",
        "      lst2=','.join(lst1)\n",
        "    # your code\n",
        "    return lst2\n",
        "\n",
        "S=  \"_,_,30,_,_,_,50,_,_\"\n",
        "smoothed_values= curve_smoothing(S)\n",
        "print(smoothed_values)"
      ],
      "execution_count": 33,
      "outputs": [
        {
          "output_type": "stream",
          "text": [
            "Input: _,_,30,_,_,_,50,_,_\n",
            "['_', '_', '30', '_', '_', '_', '50', '_', '_']\n",
            "1\n"
          ],
          "name": "stdout"
        },
        {
          "output_type": "error",
          "ename": "TypeError",
          "evalue": "ignored",
          "traceback": [
            "\u001b[0;31m---------------------------------------------------------------------------\u001b[0m",
            "\u001b[0;31mTypeError\u001b[0m                                 Traceback (most recent call last)",
            "\u001b[0;32m<ipython-input-33-8d8387c78ea5>\u001b[0m in \u001b[0;36m<module>\u001b[0;34m()\u001b[0m\n\u001b[1;32m     27\u001b[0m \u001b[0;34m\u001b[0m\u001b[0m\n\u001b[1;32m     28\u001b[0m \u001b[0mS\u001b[0m\u001b[0;34m=\u001b[0m  \u001b[0;34m\"_,_,30,_,_,_,50,_,_\"\u001b[0m\u001b[0;34m\u001b[0m\u001b[0;34m\u001b[0m\u001b[0m\n\u001b[0;32m---> 29\u001b[0;31m \u001b[0msmoothed_values\u001b[0m\u001b[0;34m=\u001b[0m \u001b[0mcurve_smoothing\u001b[0m\u001b[0;34m(\u001b[0m\u001b[0mS\u001b[0m\u001b[0;34m)\u001b[0m\u001b[0;34m\u001b[0m\u001b[0;34m\u001b[0m\u001b[0m\n\u001b[0m\u001b[1;32m     30\u001b[0m \u001b[0mprint\u001b[0m\u001b[0;34m(\u001b[0m\u001b[0msmoothed_values\u001b[0m\u001b[0;34m)\u001b[0m\u001b[0;34m\u001b[0m\u001b[0;34m\u001b[0m\u001b[0m\n",
            "\u001b[0;32m<ipython-input-33-8d8387c78ea5>\u001b[0m in \u001b[0;36mcurve_smoothing\u001b[0;34m(string)\u001b[0m\n\u001b[1;32m     10\u001b[0m   \u001b[0;32mfor\u001b[0m \u001b[0mi\u001b[0m \u001b[0;32min\u001b[0m \u001b[0mrange\u001b[0m\u001b[0;34m(\u001b[0m\u001b[0;36m1\u001b[0m\u001b[0;34m,\u001b[0m\u001b[0mlen\u001b[0m\u001b[0;34m(\u001b[0m\u001b[0msplitString\u001b[0m\u001b[0;34m)\u001b[0m\u001b[0;34m)\u001b[0m\u001b[0;34m:\u001b[0m\u001b[0;34m\u001b[0m\u001b[0;34m\u001b[0m\u001b[0m\n\u001b[1;32m     11\u001b[0m     \u001b[0mprint\u001b[0m\u001b[0;34m(\u001b[0m\u001b[0mi\u001b[0m\u001b[0;34m)\u001b[0m\u001b[0;34m\u001b[0m\u001b[0;34m\u001b[0m\u001b[0m\n\u001b[0;32m---> 12\u001b[0;31m     \u001b[0;32mif\u001b[0m \u001b[0ma\u001b[0m\u001b[0;34m[\u001b[0m\u001b[0mi\u001b[0m\u001b[0;34m]\u001b[0m\u001b[0;34m==\u001b[0m\u001b[0;34m\"_\"\u001b[0m\u001b[0;34m:\u001b[0m\u001b[0;34m\u001b[0m\u001b[0;34m\u001b[0m\u001b[0m\n\u001b[0m\u001b[1;32m     13\u001b[0m \u001b[0;34m\u001b[0m\u001b[0m\n\u001b[1;32m     14\u001b[0m       \u001b[0mblank_count\u001b[0m\u001b[0;34m+=\u001b[0m\u001b[0;36m1\u001b[0m\u001b[0;34m\u001b[0m\u001b[0;34m\u001b[0m\u001b[0m\n",
            "\u001b[0;31mTypeError\u001b[0m: 'int' object is not subscriptable"
          ]
        }
      ]
    },
    {
      "cell_type": "markdown",
      "metadata": {
        "id": "Kqq2RdQ-bsb7",
        "colab_type": "text"
      },
      "source": [
        "<h3> Q8: Find the probabilities</h3>\n",
        "\n",
        "You will be given a list of lists, each sublist will be of length 2 i.e. [[x,y],[p,q],[l,m]..[r,s]]\n",
        "consider its like a martrix of n rows and two columns\n",
        "1. The first column F will contain only 5 uniques values (F1, F2, F3, F4, F5)\n",
        "2. The second column S will contain only 3 uniques values (S1, S2, S3)\n",
        "<pre>\n",
        "your task is to find\n",
        "a. Probability of P(F=F1|S==S1), P(F=F1|S==S2), P(F=F1|S==S3)\n",
        "b. Probability of P(F=F2|S==S1), P(F=F2|S==S2), P(F=F2|S==S3)\n",
        "c. Probability of P(F=F3|S==S1), P(F=F3|S==S2), P(F=F3|S==S3)\n",
        "d. Probability of P(F=F4|S==S1), P(F=F4|S==S2), P(F=F4|S==S3)\n",
        "e. Probability of P(F=F5|S==S1), P(F=F5|S==S2), P(F=F5|S==S3)\n",
        "</pre>\n",
        "Ex:\n",
        "\n",
        "<pre>\n",
        "[[F1,S1],[F2,S2],[F3,S3],[F1,S2],[F2,S3],[F3,S2],[F2,S1],[F4,S1],[F4,S3],[F5,S1]]\n",
        "\n",
        "a. P(F=F1|S==S1)=1/4, P(F=F1|S==S2)=1/3, P(F=F1|S==S3)=0/3\n",
        "b. P(F=F2|S==S1)=1/4, P(F=F2|S==S2)=1/3, P(F=F2|S==S3)=1/3\n",
        "c. P(F=F3|S==S1)=0/4, P(F=F3|S==S2)=1/3, P(F=F3|S==S3)=1/3\n",
        "d. P(F=F4|S==S1)=1/4, P(F=F4|S==S2)=0/3, P(F=F4|S==S3)=1/3\n",
        "e. P(F=F5|S==S1)=1/4, P(F=F5|S==S2)=0/3, P(F=F5|S==S3)=0/3\n",
        "</pre>\n",
        "\n"
      ]
    },
    {
      "cell_type": "code",
      "metadata": {
        "id": "zkccxVWMbsb9",
        "colab_type": "code",
        "colab": {}
      },
      "source": [
        "# write your python code here\n",
        "# you can take the above example as sample input for your program to test\n",
        "# it should work for any general input try not to hard code for only given input strings\n",
        "\n",
        "\n",
        "\n",
        "# you can free to change all these codes/structure\n",
        "def compute_conditional_probabilites(A):\n",
        "    # your code\n",
        "    # print the output as per the instructions\n",
        "\n",
        "A = [[F1,S1],[F2,S2],[F3,S3],[F1,S2],[F2,S3],[F3,S2],[F2,S1],[F4,S1],[F4,S3],[F5,S1]]\n",
        "compute_conditional_probabilites(A)"
      ],
      "execution_count": 0,
      "outputs": []
    },
    {
      "cell_type": "markdown",
      "metadata": {
        "id": "aZuf4-CZbscC",
        "colab_type": "text"
      },
      "source": [
        "<h3> Q9: Operations on sentences </h3>\n",
        "\n",
        "You will be given two sentances S1, S2 your task is to find \n",
        "<pre>\n",
        "a. Number of common words between S1, S2\n",
        "b. Words in S1 but not in S2\n",
        "c. Words in S2 but not in S1\n",
        "</pre>\n",
        "\n",
        "Ex: \n",
        "<pre>\n",
        "S1= \"the first column F will contain only 5 unique values\"\n",
        "S2= \"the second column S will contain only 3 unique values\"\n",
        "Output:\n",
        "a. 7\n",
        "b. ['first','F','5']\n",
        "c. ['second','S','3']\n",
        "</pre>"
      ]
    },
    {
      "cell_type": "code",
      "metadata": {
        "id": "zqElPxDybscD",
        "colab_type": "code",
        "colab": {
          "base_uri": "https://localhost:8080/",
          "height": 68
        },
        "outputId": "113f9a1b-4f3c-48b4-8ff5-be5605de2ddc"
      },
      "source": [
        "# write your python code here\n",
        "# you can take the above example as sample input for your program to test\n",
        "# it should work for any general input try not to hard code for only given input strings\n",
        "\n",
        "# you can free to change all these codes/structure\n",
        "def string_features(S1, S2):\n",
        "\n",
        "    # your code\n",
        "  S1_words = set(S1.split())\n",
        "  S2_words = set(S2.split())\n",
        "  common=S1_words & S2_words\n",
        "  a=len(common)\n",
        "  b=S1_words - S2_words\n",
        "  c=S2_words - S1_words\n",
        "  return a,b,c\n",
        "  \n",
        "\n",
        "S1= \"the first column F will contain only 5 uniques values\"\n",
        "S2= \"the second column S will contain only 3 uniques values\"\n",
        "a,b,c = string_features(S1, S2)\n",
        "print(a)\n",
        "print(b)\n",
        "print(c)"
      ],
      "execution_count": 16,
      "outputs": [
        {
          "output_type": "stream",
          "text": [
            "7\n",
            "{'5', 'F', 'first'}\n",
            "{'S', 'second', '3'}\n"
          ],
          "name": "stdout"
        }
      ]
    },
    {
      "cell_type": "markdown",
      "metadata": {
        "id": "ULUD-q5QbscH",
        "colab_type": "text"
      },
      "source": [
        "<h3> Q10: Error Function</h3>\n",
        "\n",
        "You will be given a list of lists, each sublist will be of length 2 i.e. [[x,y],[p,q],[l,m]..[r,s]]\n",
        "consider its like a martrix of n rows and two columns\n",
        "\n",
        "a. the first column Y will contain interger values <br>\n",
        "b. the second column $Y_{score}$ will be having float values <br>\n",
        "Your task is to find the value of $f(Y,Y_{score}) = -1*\\frac{1}{n}\\Sigma_{for each Y,Y_{score} pair}(Ylog10(Y_{score})+(1-Y)log10(1-Y_{score}))$ here n is the number of rows in the matrix\n",
        "<pre>\n",
        "Ex:\n",
        "[[1, 0.4], [0, 0.5], [0, 0.9], [0, 0.3], [0, 0.6], [1, 0.1], [1, 0.9], [1, 0.8]]\n",
        "output:\n",
        "0.44982\n",
        "</pre>\n",
        "$\\frac{-1}{8}\\cdot((1\\cdot log_{10}(0.4)+0\\cdot log_{10}(0.6))+(0\\cdot log_{10}(0.5)+1\\cdot log_{10}(0.5)) + ... + (1\\cdot log_{10}(0.8)+0\\cdot log_{10}(0.2)) )$"
      ]
    },
    {
      "cell_type": "code",
      "metadata": {
        "id": "U-a38HHubscH",
        "colab_type": "code",
        "colab": {
          "base_uri": "https://localhost:8080/",
          "height": 34
        },
        "outputId": "77ebcf98-9c50-4aee-cb2b-d564d836f2ae"
      },
      "source": [
        "# write your python code here\n",
        "# you can take the above example as sample input for your program to test\n",
        "# it should work for any general input try not to hard code for only given input strings\n",
        "\n",
        "\n",
        "# you can free to change all these codes/structure\n",
        "def compute_log_loss(A):\n",
        "\n",
        "    # your code\n",
        "  logLoss = sum([int(A[i][0])*math.log10(float(A[i][1]))+ (1-int(A[i][0]))*math.log10(1-float(A[i][1])) for i in range(len(A))])\n",
        "  logLoss = logLoss * -1/(len(A))\n",
        "  return logLoss\n",
        "\n",
        "A = [[1, 0.4], [0, 0.5], [0, 0.9], [0, 0.3], [0, 0.6], [1, 0.1], [1, 0.9], [1, 0.8]]\n",
        "loss = compute_log_loss(A)\n",
        "print(\"Loss function \",loss)"
      ],
      "execution_count": 14,
      "outputs": [
        {
          "output_type": "stream",
          "text": [
            "Loss function  0.42430993457031635\n"
          ],
          "name": "stdout"
        }
      ]
    }
  ]
}