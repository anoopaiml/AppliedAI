{
  "nbformat": 4,
  "nbformat_minor": 0,
  "metadata": {
    "colab": {
      "name": "Practice Questions On Functions.ipynb",
      "provenance": [],
      "collapsed_sections": [],
      "toc_visible": true,
      "authorship_tag": "ABX9TyOOvEHLbCLqlbjEhSImGldm",
      "include_colab_link": true
    },
    "kernelspec": {
      "name": "python3",
      "display_name": "Python 3"
    }
  },
  "cells": [
    {
      "cell_type": "markdown",
      "metadata": {
        "id": "view-in-github",
        "colab_type": "text"
      },
      "source": [
        "<a href=\"https://colab.research.google.com/github/anoopaiml/AppliedAI/blob/master/Practice_Questions_On_Functions.ipynb\" target=\"_parent\"><img src=\"https://colab.research.google.com/assets/colab-badge.svg\" alt=\"Open In Colab\"/></a>"
      ]
    },
    {
      "cell_type": "markdown",
      "metadata": {
        "id": "cipeHyRgTfGD",
        "colab_type": "text"
      },
      "source": [
        "###Practice Questions On Functions"
      ]
    },
    {
      "cell_type": "code",
      "metadata": {
        "id": "TOXuVeMOUUQp",
        "colab_type": "code",
        "colab": {
          "base_uri": "https://localhost:8080/",
          "height": 204
        },
        "outputId": "554527de-67ea-43bf-bf7d-ac1b4ee0b492"
      },
      "source": [
        "#Write a function that inputs a number and prints the multiplication table of that number\n",
        "def multiple(a):\n",
        "  print(\"Multiplication table of that number \",a)\n",
        "  for i in range(1,11):\n",
        "    print(a,\"*\",i,\"=\",a*i)\n",
        "\n",
        "\n",
        "multiple(5)   "
      ],
      "execution_count": 10,
      "outputs": [
        {
          "output_type": "stream",
          "text": [
            "Multiplication table of that number  5\n",
            "5 * 1 = 5\n",
            "5 * 2 = 10\n",
            "5 * 3 = 15\n",
            "5 * 4 = 20\n",
            "5 * 5 = 25\n",
            "5 * 6 = 30\n",
            "5 * 7 = 35\n",
            "5 * 8 = 40\n",
            "5 * 9 = 45\n",
            "5 * 10 = 50\n"
          ],
          "name": "stdout"
        }
      ]
    },
    {
      "cell_type": "code",
      "metadata": {
        "id": "-m2lfQLQWjh4",
        "colab_type": "code",
        "colab": {
          "base_uri": "https://localhost:8080/",
          "height": 612
        },
        "outputId": "b3770b89-ae93-4dfb-83f0-dbdfcf8dd516"
      },
      "source": [
        "#Write a program to print twin primes less than 1000. If two consecutive odd numbers are both prime then they are known as twin primes\n",
        "def is_prime(n):\n",
        "   for i in range(2, n):\n",
        "      if n % i == 0:\n",
        "         return False\n",
        "   return True\n",
        "\n",
        "def generate_twins(start, end):\n",
        "   for i in range(start, end):\n",
        "      j = i + 2\n",
        "      if(is_prime(i) and is_prime(j)):\n",
        "         print(i,\" and \",j)\n",
        "\n",
        "generate_twins(2, 1000)"
      ],
      "execution_count": 12,
      "outputs": [
        {
          "output_type": "stream",
          "text": [
            "3  and  5\n",
            "5  and  7\n",
            "11  and  13\n",
            "17  and  19\n",
            "29  and  31\n",
            "41  and  43\n",
            "59  and  61\n",
            "71  and  73\n",
            "101  and  103\n",
            "107  and  109\n",
            "137  and  139\n",
            "149  and  151\n",
            "179  and  181\n",
            "191  and  193\n",
            "197  and  199\n",
            "227  and  229\n",
            "239  and  241\n",
            "269  and  271\n",
            "281  and  283\n",
            "311  and  313\n",
            "347  and  349\n",
            "419  and  421\n",
            "431  and  433\n",
            "461  and  463\n",
            "521  and  523\n",
            "569  and  571\n",
            "599  and  601\n",
            "617  and  619\n",
            "641  and  643\n",
            "659  and  661\n",
            "809  and  811\n",
            "821  and  823\n",
            "827  and  829\n",
            "857  and  859\n",
            "881  and  883\n"
          ],
          "name": "stdout"
        }
      ]
    },
    {
      "cell_type": "code",
      "metadata": {
        "id": "VTiqjqPEXsfG",
        "colab_type": "code",
        "colab": {
          "base_uri": "https://localhost:8080/",
          "height": 68
        },
        "outputId": "0498d911-2c63-45dc-fbfa-08432d3993a0"
      },
      "source": [
        "#Write a program to find out the prime factors of a number. Example: prime factors of 56 - 2, 2, 2, 7\n",
        "Number = int(input(\" Please Enter any Number: \"))\n",
        "\n",
        "for i in range(2, Number + 1):\n",
        "    if(Number % i == 0):\n",
        "        isprime = 1\n",
        "        for j in range(2, (i //2 + 1)):\n",
        "            if(i % j == 0):\n",
        "                isprime = 0\n",
        "                break\n",
        "            \n",
        "        if (isprime == 1):\n",
        "            print(\" %d is a Prime Factor of a Given Number %d\" %(i, Number))"
      ],
      "execution_count": 13,
      "outputs": [
        {
          "output_type": "stream",
          "text": [
            " Please Enter any Number: 6\n",
            " 2 is a Prime Factor of a Given Number 6\n",
            " 3 is a Prime Factor of a Given Number 6\n"
          ],
          "name": "stdout"
        }
      ]
    },
    {
      "cell_type": "code",
      "metadata": {
        "id": "zHdQHghxZCR_",
        "colab_type": "code",
        "colab": {
          "base_uri": "https://localhost:8080/",
          "height": 85
        },
        "outputId": "214b4fa8-1b4f-4f98-ec23-fc2adac5bdc5"
      },
      "source": [
        "# Write a program to implement these formulae of permutations and combinations. Number of permutations of n objects taken r at a time: p(n, r) = n! / (n-r)!. Number of combinations of n objects taken r at a time is: c(n, r) = n! / (r!*(n-r)!) = p(n,r) / r!\n",
        "n = int(input(\" Please Enter n objects: \"))\n",
        "r = int(input(\" Please Enter r at time: \"))\n",
        "def fact(m):\n",
        "  k=1\n",
        "  for i in range(1,m+1):\n",
        "    k=k*i\n",
        "  return k\n",
        "\n",
        "def p(n,r):\n",
        "  j=fact(n)\n",
        "  k=fact(n-r)\n",
        "  i=j/k\n",
        "  print(\"Permutations is \",i)\n",
        "  m1=fact(r)\n",
        "  i1=i/m1\n",
        "  print(\"Combinations is\",i1)\n",
        "p(n,r)\n"
      ],
      "execution_count": 22,
      "outputs": [
        {
          "output_type": "stream",
          "text": [
            " Please Enter n objects: 8\n",
            " Please Enter r at time: 2\n",
            "Permutations is  56.0\n",
            "Combinations is 28.0\n"
          ],
          "name": "stdout"
        }
      ]
    },
    {
      "cell_type": "code",
      "metadata": {
        "id": "LiqA_boSfnWR",
        "colab_type": "code",
        "colab": {
          "base_uri": "https://localhost:8080/",
          "height": 51
        },
        "outputId": "725df825-7e77-4c14-afbb-3b787308b246"
      },
      "source": [
        "#Write a function that converts a decimal number to binary number\n",
        "n = int(input(\" Please Enter decimal number: \"))\n",
        "\n",
        "def dectobin(num):\n",
        "  if num > 1: \n",
        "    dectobin(num // 2) \n",
        "  print(num % 2, end = '') \n",
        "dectobin(n)"
      ],
      "execution_count": 28,
      "outputs": [
        {
          "output_type": "stream",
          "text": [
            " Please Enter decimal number: 15\n",
            "1111"
          ],
          "name": "stdout"
        }
      ]
    },
    {
      "cell_type": "code",
      "metadata": {
        "id": "Szyp9ZsqhFLN",
        "colab_type": "code",
        "colab": {}
      },
      "source": [
        "# Missing"
      ],
      "execution_count": 0,
      "outputs": []
    },
    {
      "cell_type": "code",
      "metadata": {
        "id": "eqHEcdZqhZJu",
        "colab_type": "code",
        "colab": {
          "base_uri": "https://localhost:8080/",
          "height": 51
        },
        "outputId": "eb10c9d1-92e5-4379-f1ed-b227d75708bb"
      },
      "source": [
        "#Write a function prodDigits() that inputs a number and returns the product of digits of that number.\n",
        "n = int(input(\" Please Enter decimal number: \"))\n",
        "def prodDigits(n):\n",
        "  product = 1\n",
        "  while (n != 0): \n",
        "    product = product * (n % 10) \n",
        "    n = n // 10\n",
        "  return product \n",
        "prodDigits(n)"
      ],
      "execution_count": 30,
      "outputs": [
        {
          "output_type": "stream",
          "text": [
            " Please Enter decimal number: 678\n"
          ],
          "name": "stdout"
        },
        {
          "output_type": "execute_result",
          "data": {
            "text/plain": [
              "336"
            ]
          },
          "metadata": {
            "tags": []
          },
          "execution_count": 30
        }
      ]
    },
    {
      "cell_type": "code",
      "metadata": {
        "id": "_GS3FI4cic22",
        "colab_type": "code",
        "colab": {}
      },
      "source": [
        ""
      ],
      "execution_count": 0,
      "outputs": []
    }
  ]
}